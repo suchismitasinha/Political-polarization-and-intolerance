{
 "cells": [
  {
   "cell_type": "markdown",
   "metadata": {},
   "source": [
    "To analyse the attitude of people on Anti-Semitic behaviour or activties using Linear and Polynomial Regression models"
   ]
  },
  {
   "cell_type": "code",
   "execution_count": 61,
   "metadata": {},
   "outputs": [],
   "source": [
    "#We import all the necessary libraries here\n",
    "import numpy as np\n",
    "import pandas as pd\n",
    "import matplotlib as plt\n",
    "from pprint import pprint\n",
    "import json\n",
    "%matplotlib inline\n",
    "import matplotlib.pyplot as plt\n",
    "from sklearn.preprocessing import scale \n",
    "from sklearn.model_selection import train_test_split\n",
    "from sklearn.linear_model import Ridge, RidgeCV, Lasso, LassoCV\n",
    "from sklearn.metrics import mean_squared_error"
   ]
  },
  {
   "cell_type": "markdown",
   "metadata": {},
   "source": [
    "Next, we load the datasets that we will be working on. We use the datasets \"Perceptions on changes in the level of              antisemitism in the country over the past five years, by EU Member State                                               (%).json\",\"Antisemitism_is_seen_to_be_a_problem_in_the_country_today_ by_EU_Member_State .json\" and \"reporting of the most \n",
    "serious incident of antisemitic discrimination to an authority or organisation, in 2013, by EU Member State (%).json\" for \n",
    "our data analysis here. We combine all three of these datasets to apply machine learning algorithms. "
   ]
  },
  {
   "cell_type": "code",
   "execution_count": 62,
   "metadata": {},
   "outputs": [
    {
     "name": "stdout",
     "output_type": "stream",
     "text": [
      "{'_data': [['Country',\n",
      "            'Increased a lot',\n",
      "            'Increased a little',\n",
      "            'Stayed the same',\n",
      "            'Decreased a little',\n",
      "            'Decreased a lot',\n",
      "            \"Don't know\"],\n",
      "           ['France', '74', '14', '8', '1', '3', '1'],\n",
      "           ['Hungary', '70', '21', '5', '1', '3', '1'],\n",
      "           ['Belgium', '58', '30', '9', '1', '1', '2'],\n",
      "           ['Sweden', '37', '43', '14', '2', '1', '2'],\n",
      "           ['Italy', '27', '41', '25', '6', '1', '1'],\n",
      "           ['Germany', '32', '36', '23', '3', '3', '4'],\n",
      "           ['Latvia', '9', '30', '44', '5', '4', '9'],\n",
      "           ['United Kingdom', '27', '39', '27', '4', '1', '3'],\n",
      "           ['Eight-country average', '44', '32', '18', '3', '2', '2']],\n",
      " 'data': [{'data': [74, 70, 58, 37, 27, 32, 9, 27, 44],\n",
      "           'name': 'Increased a lot'},\n",
      "          {'data': [14, 21, 30, 43, 41, 36, 30, 39, 32],\n",
      "           'name': 'Increased a little'},\n",
      "          {'data': [8, 5, 9, 14, 25, 23, 44, 27, 18],\n",
      "           'name': 'Stayed the same'},\n",
      "          {'data': [1, 1, 1, 2, 6, 3, 5, 4, 3], 'name': 'Decreased a little'},\n",
      "          {'data': [3, 3, 1, 1, 1, 3, 4, 1, 2], 'name': 'Decreased a lot'},\n",
      "          {'data': [1, 1, 2, 2, 1, 4, 9, 3, 2], 'name': \"Don't know\"}],\n",
      " 'description': 'The table shows the perception of eight EU member states on '\n",
      "                'proliferation of antisemitism between 2008-2013. In France, '\n",
      "                'the perception is that antisemitism increased a lot, as '\n",
      "                'opposed to Latvia, where respondents considered that it '\n",
      "                'stayed the same',\n",
      " 'labels': {'name': 'Country',\n",
      "            'values': ['France',\n",
      "                       'Hungary',\n",
      "                       'Belgium',\n",
      "                       'Sweden',\n",
      "                       'Italy',\n",
      "                       'Germany',\n",
      "                       'Latvia',\n",
      "                       'United Kingdom',\n",
      "                       'Eight-country average']},\n",
      " 'metadata': {'chart_number': '108',\n",
      "              'geographical': 'European Union',\n",
      "              'link': 'https://fra.europa.eu/sites/default/files/fra-2013-discrimination-hate-crime-against-jews-eu-member-states-0_en.pdf',\n",
      "              'method': 'Report',\n",
      "              'source': 'Discrimination and hate crime against Jews in EU '\n",
      "                        'Member States: experiences and perceptions of '\n",
      "                        'antisemitism',\n",
      "              'sub_topic': 'Prevalence of hate speech',\n",
      "              'title': 'Perceptions on changes in the level of antisemitism in '\n",
      "                       'the country over the past five years, by EU Member '\n",
      "                       'State (%)',\n",
      "              'topic': 'Hate Speech',\n",
      "              'type': 'Problem',\n",
      "              'year': '2013'},\n",
      " 'source': {'license': 'Creative Common CC-BY 4.0 International',\n",
      "            'name': 'Intermediary Liability - The Evidence Hub for '\n",
      "                    'Policymakers',\n",
      "            'url': 'https://evidencehub.net'}}\n"
     ]
    }
   ],
   "source": [
    "with open('Perceptions on changes in the level of antisemitism in the country over the past five years, by EU Member State (%).json') as json_file:\n",
    "    m = json.load(json_file)\n",
    "\n",
    "pprint(m)"
   ]
  },
  {
   "cell_type": "code",
   "execution_count": 63,
   "metadata": {},
   "outputs": [
    {
     "name": "stdout",
     "output_type": "stream",
     "text": [
      "{'_data': [['Country',\n",
      "            'A very big problem',\n",
      "            'A fairly big problem',\n",
      "            'Not a very big problem',\n",
      "            'Not a problem at all',\n",
      "            \"Don't know\"],\n",
      "           ['France', '52', '33', '11', '4', '1'],\n",
      "           ['Hungary', '49', '41', '7', '3', '0'],\n",
      "           ['Belgium', '35', '42', '19', '2', '2'],\n",
      "           ['Sweden', '20', '40', '35', '5', '1'],\n",
      "           ['Italy', '19', '41', '38', '1', '1'],\n",
      "           ['Germany', '17', '44', '34', '4', '2'],\n",
      "           ['Latvia', '14', '30', '47', '7', '2'],\n",
      "           ['United Kingdom', '11', '37', '47', '5', '1'],\n",
      "           ['Eight-country average', '28', '38', '30', '4', '1']],\n",
      " 'data': [{'data': [52, 49, 35, 20, 19, 17, 14, 11, 28],\n",
      "           'name': 'A very big problem'},\n",
      "          {'data': [33, 41, 42, 40, 41, 44, 30, 37, 38],\n",
      "           'name': 'A fairly big problem'},\n",
      "          {'data': [11, 7, 19, 35, 38, 34, 47, 47, 30],\n",
      "           'name': 'Not a very big problem'},\n",
      "          {'data': [4, 3, 2, 5, 1, 4, 7, 5, 4], 'name': 'Not a problem at all'},\n",
      "          {'data': [1, None, 2, 1, 1, 2, 2, 1, 1], 'name': \"Don't know\"}],\n",
      " 'description': 'The chart explains if antisemitism is seen as a problem by '\n",
      "                'eight EU member states, %. The results show that antisemitism '\n",
      "                'is seen as a a very big problem in France and Germany and not '\n",
      "                'a very big problem in United Kingdom and Latvia.',\n",
      " 'labels': {'name': 'Country',\n",
      "            'values': ['France',\n",
      "                       'Hungary',\n",
      "                       'Belgium',\n",
      "                       'Sweden',\n",
      "                       'Italy',\n",
      "                       'Germany',\n",
      "                       'Latvia',\n",
      "                       'United Kingdom',\n",
      "                       'Eight-country average']},\n",
      " 'metadata': {'chart_number': '107',\n",
      "              'geographical': 'European Union',\n",
      "              'link': 'https://fra.europa.eu/sites/default/files/fra-2013-discrimination-hate-crime-against-jews-eu-member-states-0_en.pdf',\n",
      "              'method': 'Report',\n",
      "              'source': 'Discrimination and hate crime against Jews in EU '\n",
      "                        'Member States: experiences and perceptions of '\n",
      "                        'antisemitism',\n",
      "              'sub_topic': 'Prevalence of hate speech',\n",
      "              'title': 'Antisemitism is seen to be a problem in the country '\n",
      "                       'today, by EU Member State (%)',\n",
      "              'topic': 'Hate Speech',\n",
      "              'type': 'Problem',\n",
      "              'year': '2013'},\n",
      " 'source': {'license': 'Creative Common CC-BY 4.0 International',\n",
      "            'name': 'Intermediary Liability - The Evidence Hub for '\n",
      "                    'Policymakers',\n",
      "            'url': 'https://evidencehub.net'}}\n"
     ]
    }
   ],
   "source": [
    "with open('Antisemitism_is_seen_to_be_a_problem_in_the_country_today_ by_EU_Member_State .json') as json_file:\n",
    "    l = json.load(json_file)\n",
    "\n",
    "pprint(l)"
   ]
  },
  {
   "cell_type": "code",
   "execution_count": 64,
   "metadata": {},
   "outputs": [
    {
     "name": "stdout",
     "output_type": "stream",
     "text": [
      "{'_data': [['Country', 'Yes, %', 'No, %'],\n",
      "           ['United Kingdom', '24', '76'],\n",
      "           ['Belgium', '22', '78'],\n",
      "           ['France', '21', '79'],\n",
      "           ['Germany', '18', '82'],\n",
      "           ['Italy', '17', '83'],\n",
      "           ['Hungary', '14', '86'],\n",
      "           ['Sweden', '4', '97'],\n",
      "           ['Eight-country average', '18', '82']],\n",
      " 'data': [{'data': [24, 22, 21, 18, 17, 14, 4, 18], 'name': 'Yes, %'},\n",
      "          {'data': [76, 78, 79, 82, 83, 86, 97, 82], 'name': 'No, %'}],\n",
      " 'description': 'This chart shows the trend of reporting of the most serious '\n",
      "                'incident of antisemitic discrimination to an authority or '\n",
      "                'organisation, in 2013, by EU Member State (%)',\n",
      " 'labels': {'name': 'Country',\n",
      "            'values': ['United Kingdom',\n",
      "                       'Belgium',\n",
      "                       'France',\n",
      "                       'Germany',\n",
      "                       'Italy',\n",
      "                       'Hungary',\n",
      "                       'Sweden',\n",
      "                       'Eight-country average']},\n",
      " 'metadata': {'chart_number': '113',\n",
      "              'geographical': 'European Union',\n",
      "              'link': 'https://fra.europa.eu/sites/default/files/fra-2013-discrimination-hate-crime-against-jews-eu-member-states-0_en.pdf',\n",
      "              'method': 'Report',\n",
      "              'source': 'Discrimination and hate crime against Jews in EU '\n",
      "                        'Member States: experiences and perceptions of '\n",
      "                        'antisemitism',\n",
      "              'sub_topic': 'Reporting hate speech',\n",
      "              'title': 'Reporting of the most serious incident of antisemitic '\n",
      "                       'discrimination to an authority or organisation, in the '\n",
      "                       'past 12 months, by EU Member State (%)',\n",
      "              'topic': 'Hate Speech',\n",
      "              'type': 'Solution',\n",
      "              'year': '2013'},\n",
      " 'source': {'license': 'Creative Common CC-BY 4.0 International',\n",
      "            'name': 'Intermediary Liability - The Evidence Hub for '\n",
      "                    'Policymakers',\n",
      "            'url': 'https://evidencehub.net'}}\n"
     ]
    }
   ],
   "source": [
    "with open('reporting of the most serious incident of antisemitic discrimination to an authority or organisation, in 2013, by EU Member State (%).json') as json_file:\n",
    "    data = json.load(json_file)\n",
    "\n",
    "pprint(data)"
   ]
  },
  {
   "cell_type": "code",
   "execution_count": 65,
   "metadata": {},
   "outputs": [
    {
     "data": {
      "text/html": [
       "<div>\n",
       "<style scoped>\n",
       "    .dataframe tbody tr th:only-of-type {\n",
       "        vertical-align: middle;\n",
       "    }\n",
       "\n",
       "    .dataframe tbody tr th {\n",
       "        vertical-align: top;\n",
       "    }\n",
       "\n",
       "    .dataframe thead th {\n",
       "        text-align: right;\n",
       "    }\n",
       "</style>\n",
       "<table border=\"1\" class=\"dataframe\">\n",
       "  <thead>\n",
       "    <tr style=\"text-align: right;\">\n",
       "      <th></th>\n",
       "      <th>Category</th>\n",
       "      <th>A very big problem</th>\n",
       "      <th>A fairly big problem</th>\n",
       "      <th>Not a very big problem</th>\n",
       "      <th>Not a problem at all</th>\n",
       "      <th>Don't know</th>\n",
       "      <th>Perception Increased a lot</th>\n",
       "      <th>Perception Increased a little</th>\n",
       "      <th>Perception Stayed the same</th>\n",
       "      <th>Perception Decreased a little</th>\n",
       "      <th>Perception Decreased a lot</th>\n",
       "      <th>Don't know.1</th>\n",
       "      <th>Reporting incidents Yes(%)</th>\n",
       "      <th>Not reporting No(%)</th>\n",
       "    </tr>\n",
       "  </thead>\n",
       "  <tbody>\n",
       "    <tr>\n",
       "      <th>0</th>\n",
       "      <td>France</td>\n",
       "      <td>52</td>\n",
       "      <td>33</td>\n",
       "      <td>11</td>\n",
       "      <td>4</td>\n",
       "      <td>1</td>\n",
       "      <td>9</td>\n",
       "      <td>0</td>\n",
       "      <td>0</td>\n",
       "      <td>0</td>\n",
       "      <td>0</td>\n",
       "      <td>0</td>\n",
       "      <td>21</td>\n",
       "      <td>79</td>\n",
       "    </tr>\n",
       "    <tr>\n",
       "      <th>1</th>\n",
       "      <td>Hungary</td>\n",
       "      <td>49</td>\n",
       "      <td>41</td>\n",
       "      <td>7</td>\n",
       "      <td>3</td>\n",
       "      <td>0</td>\n",
       "      <td>70</td>\n",
       "      <td>21</td>\n",
       "      <td>5</td>\n",
       "      <td>1</td>\n",
       "      <td>3</td>\n",
       "      <td>1</td>\n",
       "      <td>14</td>\n",
       "      <td>86</td>\n",
       "    </tr>\n",
       "    <tr>\n",
       "      <th>2</th>\n",
       "      <td>Belgium</td>\n",
       "      <td>35</td>\n",
       "      <td>42</td>\n",
       "      <td>19</td>\n",
       "      <td>2</td>\n",
       "      <td>2</td>\n",
       "      <td>58</td>\n",
       "      <td>30</td>\n",
       "      <td>9</td>\n",
       "      <td>1</td>\n",
       "      <td>1</td>\n",
       "      <td>2</td>\n",
       "      <td>22</td>\n",
       "      <td>78</td>\n",
       "    </tr>\n",
       "    <tr>\n",
       "      <th>3</th>\n",
       "      <td>Sweden</td>\n",
       "      <td>20</td>\n",
       "      <td>40</td>\n",
       "      <td>35</td>\n",
       "      <td>5</td>\n",
       "      <td>1</td>\n",
       "      <td>37</td>\n",
       "      <td>43</td>\n",
       "      <td>14</td>\n",
       "      <td>2</td>\n",
       "      <td>1</td>\n",
       "      <td>2</td>\n",
       "      <td>4</td>\n",
       "      <td>97</td>\n",
       "    </tr>\n",
       "    <tr>\n",
       "      <th>4</th>\n",
       "      <td>Italy</td>\n",
       "      <td>19</td>\n",
       "      <td>41</td>\n",
       "      <td>38</td>\n",
       "      <td>1</td>\n",
       "      <td>1</td>\n",
       "      <td>27</td>\n",
       "      <td>41</td>\n",
       "      <td>25</td>\n",
       "      <td>6</td>\n",
       "      <td>1</td>\n",
       "      <td>1</td>\n",
       "      <td>17</td>\n",
       "      <td>83</td>\n",
       "    </tr>\n",
       "    <tr>\n",
       "      <th>5</th>\n",
       "      <td>Germany</td>\n",
       "      <td>17</td>\n",
       "      <td>44</td>\n",
       "      <td>34</td>\n",
       "      <td>4</td>\n",
       "      <td>2</td>\n",
       "      <td>32</td>\n",
       "      <td>36</td>\n",
       "      <td>23</td>\n",
       "      <td>3</td>\n",
       "      <td>3</td>\n",
       "      <td>4</td>\n",
       "      <td>18</td>\n",
       "      <td>82</td>\n",
       "    </tr>\n",
       "    <tr>\n",
       "      <th>6</th>\n",
       "      <td>Latvia</td>\n",
       "      <td>14</td>\n",
       "      <td>30</td>\n",
       "      <td>47</td>\n",
       "      <td>7</td>\n",
       "      <td>2</td>\n",
       "      <td>9</td>\n",
       "      <td>30</td>\n",
       "      <td>44</td>\n",
       "      <td>5</td>\n",
       "      <td>4</td>\n",
       "      <td>9</td>\n",
       "      <td>0</td>\n",
       "      <td>0</td>\n",
       "    </tr>\n",
       "    <tr>\n",
       "      <th>7</th>\n",
       "      <td>United Kingdom</td>\n",
       "      <td>11</td>\n",
       "      <td>37</td>\n",
       "      <td>47</td>\n",
       "      <td>5</td>\n",
       "      <td>1</td>\n",
       "      <td>27</td>\n",
       "      <td>39</td>\n",
       "      <td>27</td>\n",
       "      <td>4</td>\n",
       "      <td>1</td>\n",
       "      <td>3</td>\n",
       "      <td>24</td>\n",
       "      <td>76</td>\n",
       "    </tr>\n",
       "  </tbody>\n",
       "</table>\n",
       "</div>"
      ],
      "text/plain": [
       "         Category  A very big problem  A fairly big problem  \\\n",
       "0          France                  52                    33   \n",
       "1         Hungary                  49                    41   \n",
       "2         Belgium                  35                    42   \n",
       "3          Sweden                  20                    40   \n",
       "4           Italy                  19                    41   \n",
       "5         Germany                  17                    44   \n",
       "6          Latvia                  14                    30   \n",
       "7  United Kingdom                  11                    37   \n",
       "\n",
       "   Not a very big problem  Not a problem at all  Don't know  \\\n",
       "0                      11                     4           1   \n",
       "1                       7                     3           0   \n",
       "2                      19                     2           2   \n",
       "3                      35                     5           1   \n",
       "4                      38                     1           1   \n",
       "5                      34                     4           2   \n",
       "6                      47                     7           2   \n",
       "7                      47                     5           1   \n",
       "\n",
       "   Perception Increased a lot  Perception Increased a little  \\\n",
       "0                           9                              0   \n",
       "1                          70                             21   \n",
       "2                          58                             30   \n",
       "3                          37                             43   \n",
       "4                          27                             41   \n",
       "5                          32                             36   \n",
       "6                           9                             30   \n",
       "7                          27                             39   \n",
       "\n",
       "   Perception Stayed the same  Perception Decreased a little  \\\n",
       "0                           0                              0   \n",
       "1                           5                              1   \n",
       "2                           9                              1   \n",
       "3                          14                              2   \n",
       "4                          25                              6   \n",
       "5                          23                              3   \n",
       "6                          44                              5   \n",
       "7                          27                              4   \n",
       "\n",
       "   Perception Decreased a lot  Don't know.1  Reporting incidents Yes(%)  \\\n",
       "0                           0             0                          21   \n",
       "1                           3             1                          14   \n",
       "2                           1             2                          22   \n",
       "3                           1             2                           4   \n",
       "4                           1             1                          17   \n",
       "5                           3             4                          18   \n",
       "6                           4             9                           0   \n",
       "7                           1             3                          24   \n",
       "\n",
       "   Not reporting No(%)  \n",
       "0                   79  \n",
       "1                   86  \n",
       "2                   78  \n",
       "3                   97  \n",
       "4                   83  \n",
       "5                   82  \n",
       "6                    0  \n",
       "7                   76  "
      ]
     },
     "execution_count": 65,
     "metadata": {},
     "output_type": "execute_result"
    }
   ],
   "source": [
    "#We load the combined dataset here\n",
    "DATAFRAME = pd.read_csv('Combined dataset.csv' , encoding = \"utf8\")\n",
    "DATAFRAME"
   ]
  },
  {
   "cell_type": "code",
   "execution_count": 66,
   "metadata": {},
   "outputs": [],
   "source": [
    "#To study if there exists a linear relationship for our chosen values, we proceed to build a linear regression model first\n",
    "X = DATAFRAME.iloc[:, 1:2].values \n",
    "y = DATAFRAME.iloc[:, 6].values \n"
   ]
  },
  {
   "cell_type": "code",
   "execution_count": 67,
   "metadata": {},
   "outputs": [
    {
     "data": {
      "text/plain": [
       "LinearRegression()"
      ]
     },
     "execution_count": 67,
     "metadata": {},
     "output_type": "execute_result"
    }
   ],
   "source": [
    "# Fitting Linear Regression to the dataset \n",
    "from sklearn.linear_model import LinearRegression \n",
    "lin = LinearRegression() \n",
    "\n",
    "lin.fit(X, y) \n"
   ]
  },
  {
   "cell_type": "code",
   "execution_count": 68,
   "metadata": {},
   "outputs": [
    {
     "data": {
      "image/png": "[encoded data removed]",
      "text/plain": [
       "<Figure size 432x288 with 1 Axes>"
      ]
     },
     "metadata": {
      "needs_background": "light"
     },
     "output_type": "display_data"
    }
   ],
   "source": [
    "# Visualising the Linear Regression results \n",
    "plt.scatter(X, y, color = 'blue') \n",
    "\n",
    "plt.plot(X, lin.predict(X), color = 'red') \n",
    "plt.title('Linear Regression') \n",
    "plt.xlabel('A very big problem') \n",
    "plt.ylabel('Perception Increased a lot') \n",
    "\n",
    "plt.show() "
   ]
  },
  {
   "cell_type": "code",
   "execution_count": 69,
   "metadata": {},
   "outputs": [
    {
     "data": {
      "image/png": "[encoded data removed]",
      "text/plain": [
       "<Figure size 432x288 with 1 Axes>"
      ]
     },
     "metadata": {
      "needs_background": "light"
     },
     "output_type": "display_data"
    }
   ],
   "source": [
    "#Studying the relationship between anti-semitism being a very big problem and perception having increased a lot\n",
    "import numpy as np\n",
    "import matplotlib.pyplot as plt\n",
    "\n",
    "Y = [9, 70, 58, 37, 27, 32, 9, 27]\n",
    "X = [52, 49, 35, 20, 19, 17, 14, 11]\n",
    "\n",
    "# Training the Algorithm (Polynomial)\n",
    "degree = 5\n",
    "poly_fit = np.poly1d(np.polyfit(X,Y, degree))\n",
    "\n",
    "# Plotting the data\n",
    "xx = np.linspace(0, 100, 550)\n",
    "plt.plot(xx, poly_fit(xx), c='r',linestyle='-')\n",
    "plt.title('Polynomial')\n",
    "plt.xlabel('A very big problem')\n",
    "plt.ylabel('Perception Increased a lot')\n",
    "plt.axis([0, 100, 0, 100])\n",
    "plt.grid(True)\n",
    "plt.scatter(X, Y)\n",
    "plt.show()\n"
   ]
  },
  {
   "cell_type": "code",
   "execution_count": 70,
   "metadata": {},
   "outputs": [
    {
     "data": {
      "image/png": "[encoded data removed]",
      "text/plain": [
       "<Figure size 432x288 with 1 Axes>"
      ]
     },
     "metadata": {
      "needs_background": "light"
     },
     "output_type": "display_data"
    }
   ],
   "source": [
    "#Studying the relationship between perception staying the same and Anti-semitism being a very big problem.\n",
    "import numpy as np\n",
    "import matplotlib.pyplot as plt\n",
    "\n",
    "Y = [0, 5, 9, 14, 25, 23, 44, 27]\n",
    "X = [52, 49, 35, 20, 19, 17, 14, 11]\n",
    "\n",
    "# Training the Algorithm (Polynomial)\n",
    "degree = 5\n",
    "poly_fit = np.poly1d(np.polyfit(X,Y, degree))\n",
    "\n",
    "# Plotting the data\n",
    "xx = np.linspace(0, 100, 550)\n",
    "plt.plot(xx, poly_fit(xx), c='r',linestyle='-')\n",
    "plt.title('Polynomial')\n",
    "plt.xlabel('A very big problem')\n",
    "plt.ylabel('Perception stayed the same')\n",
    "plt.axis([-50, 100, -50, 100])\n",
    "plt.grid(True)\n",
    "plt.scatter(X, Y)\n",
    "plt.show()\n"
   ]
  },
  {
   "cell_type": "code",
   "execution_count": 71,
   "metadata": {},
   "outputs": [],
   "source": [
    "X = DATAFRAME.iloc[:, 1:2].values \n",
    "y = DATAFRAME.iloc[:, 13].values \n"
   ]
  },
  {
   "cell_type": "code",
   "execution_count": 72,
   "metadata": {},
   "outputs": [
    {
     "data": {
      "text/plain": [
       "LinearRegression()"
      ]
     },
     "execution_count": 72,
     "metadata": {},
     "output_type": "execute_result"
    }
   ],
   "source": [
    "# Fitting Linear Regression to the dataset to study the linear relationship between ANti-semitism being a very big problem\n",
    "# and percentage of people not reporting\n",
    "from sklearn.linear_model import LinearRegression \n",
    "lin = LinearRegression() \n",
    "\n",
    "lin.fit(X, y) \n"
   ]
  },
  {
   "cell_type": "code",
   "execution_count": 73,
   "metadata": {},
   "outputs": [
    {
     "data": {
      "image/png": "[encoded data removed]",
      "text/plain": [
       "<Figure size 432x288 with 1 Axes>"
      ]
     },
     "metadata": {
      "needs_background": "light"
     },
     "output_type": "display_data"
    }
   ],
   "source": [
    "# Visualising the Linear Regression results \n",
    "plt.scatter(X, y, color = 'blue') \n",
    "\n",
    "plt.plot(X, lin.predict(X), color = 'red') \n",
    "plt.title('Linear Regression') \n",
    "plt.xlabel('A very big problem') \n",
    "plt.ylabel('Not reporting No(%)') \n",
    "\n",
    "plt.show() "
   ]
  },
  {
   "cell_type": "code",
   "execution_count": 74,
   "metadata": {},
   "outputs": [
    {
     "data": {
      "image/png": "[encoded data removed]",
      "text/plain": [
       "<Figure size 432x288 with 1 Axes>"
      ]
     },
     "metadata": {
      "needs_background": "light"
     },
     "output_type": "display_data"
    }
   ],
   "source": [
    "#we study the relationship between percentage of people refusing to report anti-semitic behaviour and Anti-semitism \n",
    "#being a very big problem\n",
    "import numpy as np\n",
    "import matplotlib.pyplot as plt\n",
    "\n",
    "Y = [79, 86, 78, 97, 83, 82, 0, 76]\n",
    "X = [52, 49, 35, 20, 19, 17, 14, 11]\n",
    "\n",
    "# Training the Algorithm (Polynomial)\n",
    "degree = 5\n",
    "poly_fit = np.poly1d(np.polyfit(X,Y, degree))\n",
    "\n",
    "# Plotting data\n",
    "xx = np.linspace(0, 70, 100)\n",
    "plt.plot(xx, poly_fit(xx), c='r',linestyle='-')\n",
    "plt.title('Polynomial')\n",
    "plt.xlabel('A very big problem')\n",
    "plt.ylabel('Not reporting No(%)')\n",
    "plt.axis([0, 150, 0, 150])\n",
    "plt.grid(True)\n",
    "plt.scatter(X, Y)\n",
    "plt.show()\n"
   ]
  },
  {
   "cell_type": "code",
   "execution_count": 75,
   "metadata": {},
   "outputs": [
    {
     "data": {
      "image/png": "[encoded data removed]",
      "text/plain": [
       "<Figure size 432x288 with 1 Axes>"
      ]
     },
     "metadata": {
      "needs_background": "light"
     },
     "output_type": "display_data"
    }
   ],
   "source": [
    "#We study the relationship between Anti-semitism not being a problem at all and the percentage of people reporting the incidents\n",
    "import numpy as np\n",
    "import matplotlib.pyplot as plt\n",
    "\n",
    "X = [21, 14, 22, 4, 17, 18, 0, 24]\n",
    "Y = [4, 3, 2, 5, 1, 4, 7, 5]\n",
    "\n",
    "# Training the Algorithm (Polynomial)\n",
    "degree = 5\n",
    "poly_fit = np.poly1d(np.polyfit(X,Y, degree))\n",
    "\n",
    "# Plotting the data\n",
    "xx = np.linspace(-3, 400, 1000)\n",
    "plt.plot(xx, poly_fit(xx), c='r',linestyle='-')\n",
    "plt.title('Polynomial')\n",
    "plt.xlabel('Reporting incidents Yes(%)')\n",
    "plt.ylabel('Not a problem at all')\n",
    "plt.axis([-3, 30, -3, 30])\n",
    "plt.grid(True)\n",
    "plt.scatter(X, Y)\n",
    "plt.show()\n"
   ]
  },
  {
   "cell_type": "code",
   "execution_count": null,
   "metadata": {},
   "outputs": [],
   "source": []
  },
  {
   "cell_type": "code",
   "execution_count": null,
   "metadata": {},
   "outputs": [],
   "source": []
  }
 ],
 "metadata": {
  "kernelspec": {
   "display_name": "Python 3",
   "language": "python",
   "name": "python3"
  },
  "language_info": {
   "codemirror_mode": {
    "name": "ipython",
    "version": 3
   },
   "file_extension": ".py",
   "mimetype": "text/x-python",
   "name": "python",
   "nbconvert_exporter": "python",
   "pygments_lexer": "ipython3",
   "version": "3.7.6"
  }
 },
 "nbformat": 4,
 "nbformat_minor": 4
}
