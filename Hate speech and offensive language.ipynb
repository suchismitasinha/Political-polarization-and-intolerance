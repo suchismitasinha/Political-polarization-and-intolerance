{
 "cells": [
  {
   "cell_type": "markdown",
   "metadata": {},
   "source": [
    "The hate speech and offensive language dataset have been used to view how political polarisation influences the mass population through social media usage. This Twitter dataset contains hate tweets, but we mainly focused on political hate or offensive tweets. "
   ]
  },
  {
   "cell_type": "markdown",
   "metadata": {},
   "source": [
    "Installing the necessary packages required for the analysis"
   ]
  },
  {
   "cell_type": "code",
   "execution_count": 392,
   "metadata": {},
   "outputs": [
    {
     "name": "stdout",
     "output_type": "stream",
     "text": [
      "Requirement already satisfied: nltk in c:\\users\\suchi\\anaconda3\\envs\\ai2_course\\lib\\site-packages (3.3)\n",
      "Requirement already satisfied: six in c:\\users\\suchi\\anaconda3\\envs\\ai2_course\\lib\\site-packages (from nltk) (1.14.0)\n",
      "Note: you may need to restart the kernel to use updated packages.\n"
     ]
    }
   ],
   "source": [
    "pip install nltk\n"
   ]
  },
  {
   "cell_type": "code",
   "execution_count": 393,
   "metadata": {},
   "outputs": [],
   "source": [
    "import nltk \n"
   ]
  },
  {
   "cell_type": "code",
   "execution_count": 394,
   "metadata": {},
   "outputs": [],
   "source": [
    "#Importing the necessary libraries\n",
    "\n",
    "import os\n",
    "import pandas as pd\n",
    "import numpy as np\n",
    "from pprint import pprint\n",
    "\n",
    "%matplotlib inline\n"
   ]
  },
  {
   "cell_type": "code",
   "execution_count": 395,
   "metadata": {},
   "outputs": [
    {
     "data": {
      "text/html": [
       "<div>\n",
       "<style scoped>\n",
       "    .dataframe tbody tr th:only-of-type {\n",
       "        vertical-align: middle;\n",
       "    }\n",
       "\n",
       "    .dataframe tbody tr th {\n",
       "        vertical-align: top;\n",
       "    }\n",
       "\n",
       "    .dataframe thead th {\n",
       "        text-align: right;\n",
       "    }\n",
       "</style>\n",
       "<table border=\"1\" class=\"dataframe\">\n",
       "  <thead>\n",
       "    <tr style=\"text-align: right;\">\n",
       "      <th></th>\n",
       "      <th>Unnamed: 0</th>\n",
       "      <th>count</th>\n",
       "      <th>hate_speech</th>\n",
       "      <th>offensive_language</th>\n",
       "      <th>neither</th>\n",
       "      <th>class</th>\n",
       "      <th>tweet</th>\n",
       "    </tr>\n",
       "  </thead>\n",
       "  <tbody>\n",
       "    <tr>\n",
       "      <th>0</th>\n",
       "      <td>0</td>\n",
       "      <td>3</td>\n",
       "      <td>0</td>\n",
       "      <td>0</td>\n",
       "      <td>3</td>\n",
       "      <td>2</td>\n",
       "      <td>!!! RT @mayasolovely: As a woman you shouldn't...</td>\n",
       "    </tr>\n",
       "    <tr>\n",
       "      <th>1</th>\n",
       "      <td>1</td>\n",
       "      <td>3</td>\n",
       "      <td>0</td>\n",
       "      <td>3</td>\n",
       "      <td>0</td>\n",
       "      <td>1</td>\n",
       "      <td>!!!!! RT @mleew17: boy dats cold...tyga dwn ba...</td>\n",
       "    </tr>\n",
       "    <tr>\n",
       "      <th>2</th>\n",
       "      <td>2</td>\n",
       "      <td>3</td>\n",
       "      <td>0</td>\n",
       "      <td>3</td>\n",
       "      <td>0</td>\n",
       "      <td>1</td>\n",
       "      <td>!!!!!!! RT @UrKindOfBrand Dawg!!!! RT @80sbaby...</td>\n",
       "    </tr>\n",
       "    <tr>\n",
       "      <th>3</th>\n",
       "      <td>3</td>\n",
       "      <td>3</td>\n",
       "      <td>0</td>\n",
       "      <td>2</td>\n",
       "      <td>1</td>\n",
       "      <td>1</td>\n",
       "      <td>!!!!!!!!! RT @C_G_Anderson: @viva_based she lo...</td>\n",
       "    </tr>\n",
       "    <tr>\n",
       "      <th>4</th>\n",
       "      <td>4</td>\n",
       "      <td>6</td>\n",
       "      <td>0</td>\n",
       "      <td>6</td>\n",
       "      <td>0</td>\n",
       "      <td>1</td>\n",
       "      <td>!!!!!!!!!!!!! RT @ShenikaRoberts: The shit you...</td>\n",
       "    </tr>\n",
       "    <tr>\n",
       "      <th>...</th>\n",
       "      <td>...</td>\n",
       "      <td>...</td>\n",
       "      <td>...</td>\n",
       "      <td>...</td>\n",
       "      <td>...</td>\n",
       "      <td>...</td>\n",
       "      <td>...</td>\n",
       "    </tr>\n",
       "    <tr>\n",
       "      <th>24778</th>\n",
       "      <td>25291</td>\n",
       "      <td>3</td>\n",
       "      <td>0</td>\n",
       "      <td>2</td>\n",
       "      <td>1</td>\n",
       "      <td>1</td>\n",
       "      <td>you's a muthaf***in lie &amp;#8220;@LifeAsKing: @2...</td>\n",
       "    </tr>\n",
       "    <tr>\n",
       "      <th>24779</th>\n",
       "      <td>25292</td>\n",
       "      <td>3</td>\n",
       "      <td>0</td>\n",
       "      <td>1</td>\n",
       "      <td>2</td>\n",
       "      <td>2</td>\n",
       "      <td>you've gone and broke the wrong heart baby, an...</td>\n",
       "    </tr>\n",
       "    <tr>\n",
       "      <th>24780</th>\n",
       "      <td>25294</td>\n",
       "      <td>3</td>\n",
       "      <td>0</td>\n",
       "      <td>3</td>\n",
       "      <td>0</td>\n",
       "      <td>1</td>\n",
       "      <td>young buck wanna eat!!.. dat nigguh like I ain...</td>\n",
       "    </tr>\n",
       "    <tr>\n",
       "      <th>24781</th>\n",
       "      <td>25295</td>\n",
       "      <td>6</td>\n",
       "      <td>0</td>\n",
       "      <td>6</td>\n",
       "      <td>0</td>\n",
       "      <td>1</td>\n",
       "      <td>youu got wild bitches tellin you lies</td>\n",
       "    </tr>\n",
       "    <tr>\n",
       "      <th>24782</th>\n",
       "      <td>25296</td>\n",
       "      <td>3</td>\n",
       "      <td>0</td>\n",
       "      <td>0</td>\n",
       "      <td>3</td>\n",
       "      <td>2</td>\n",
       "      <td>~~Ruffled | Ntac Eileen Dahlia - Beautiful col...</td>\n",
       "    </tr>\n",
       "  </tbody>\n",
       "</table>\n",
       "<p>24783 rows × 7 columns</p>\n",
       "</div>"
      ],
      "text/plain": [
       "       Unnamed: 0  count  hate_speech  offensive_language  neither  class  \\\n",
       "0               0      3            0                   0        3      2   \n",
       "1               1      3            0                   3        0      1   \n",
       "2               2      3            0                   3        0      1   \n",
       "3               3      3            0                   2        1      1   \n",
       "4               4      6            0                   6        0      1   \n",
       "...           ...    ...          ...                 ...      ...    ...   \n",
       "24778       25291      3            0                   2        1      1   \n",
       "24779       25292      3            0                   1        2      2   \n",
       "24780       25294      3            0                   3        0      1   \n",
       "24781       25295      6            0                   6        0      1   \n",
       "24782       25296      3            0                   0        3      2   \n",
       "\n",
       "                                                   tweet  \n",
       "0      !!! RT @mayasolovely: As a woman you shouldn't...  \n",
       "1      !!!!! RT @mleew17: boy dats cold...tyga dwn ba...  \n",
       "2      !!!!!!! RT @UrKindOfBrand Dawg!!!! RT @80sbaby...  \n",
       "3      !!!!!!!!! RT @C_G_Anderson: @viva_based she lo...  \n",
       "4      !!!!!!!!!!!!! RT @ShenikaRoberts: The shit you...  \n",
       "...                                                  ...  \n",
       "24778  you's a muthaf***in lie &#8220;@LifeAsKing: @2...  \n",
       "24779  you've gone and broke the wrong heart baby, an...  \n",
       "24780  young buck wanna eat!!.. dat nigguh like I ain...  \n",
       "24781              youu got wild bitches tellin you lies  \n",
       "24782  ~~Ruffled | Ntac Eileen Dahlia - Beautiful col...  \n",
       "\n",
       "[24783 rows x 7 columns]"
      ]
     },
     "execution_count": 395,
     "metadata": {},
     "output_type": "execute_result"
    }
   ],
   "source": [
    "#Loading the data 'Hate Speech and Offensive Language.csv' into a dataframe and viewing its contents\n",
    "DATAFRAME = pd.read_csv('Hate Speech and Offensive Language.csv' , encoding = \"utf8\")\n",
    "\n",
    "DATAFRAME"
   ]
  },
  {
   "cell_type": "code",
   "execution_count": 396,
   "metadata": {},
   "outputs": [],
   "source": [
    "#Reloading the dataset against to create a list called 'searches' that finds the tweets \n",
    "#containing only those words contained in the list. The data is split by \",\" to separate the columns\n",
    "\n",
    "with open ('Hate Speech and Offensive Language.csv') as f:\n",
    "    data = f.read().split(\",\")"
   ]
  },
  {
   "cell_type": "code",
   "execution_count": 397,
   "metadata": {},
   "outputs": [
    {
     "name": "stdout",
     "output_type": "stream",
     "text": [
      "\"\"\"@QUAN1T0: 61% of welfare/government aid is claimed by white people. So y'all black slander is trash now.\"\"\"\n",
      "219\n",
      "\"\"\"A NO BRAINER\"\"\n",
      "But as soon as this bitch gets rich in political power\n",
      "#IndigenousPeoplesDay HAHA!!! You fuckin' retarded commies!!!!! Hunter Biden loves snortin' that PYGMIE FAIRY DUST don't he? #liberals\n",
      "742\n",
      "&#8220;@waymoflydenu If you do tax fraud you bet not dare tweet about voting bitch&#8221;all of them tweeting they don't do politics\n",
      "1988\n",
      ".@everSoTweetly4u Klain's real (sole) job is to dampen down the mushrooming bad PR and political fallout heading into Nov election.\n",
      "2236\n",
      "@1Oyster1 maybe not but you crow about obama and democrats so you are a mawbar....Might as well be a Republican.\n",
      "2360\n",
      " the politically correct term would be \"\"intellectually disabled.\"\" It's highly offensive to use the word retarded.\"\n",
      "2504\n",
      "@BarneyFranken @jennykutner @Salon salon is is chuck full of butthurt liberal retards\n",
      "2619\n",
      "\"@BlackManUSA You're killin' me man! &lt;3 Not all conservatives are racists\n",
      "@Chillindillan71 damn! Thot I blocked ur fuzzy butt. Have now. &#128541; @virleehol @LanceSilver1 @ChristieC733 @WayneBogda @1_conservative9\n",
      "2911\n",
      "@DividendMaster obama is a bitch his speech was pure politics for mid terms. Only way we destroy ISIS is with troops on the ground.\n",
      "3116\n",
      "@Iemonaids done that spell check we know you meant fat liberal Dyke feminist Nazi bitches\n",
      "3571\n",
      "@JennyJohnsonHi5 Did you say spray tan? **Charlie Crist switches back to Republican**\n",
      "3745\n",
      "@KILLDion @h_christianne politics isn't twitter coon lol\n",
      "3853\n",
      "\"@KeithOlbermann I feel the same way about the bigotry and racism of using the word \"\"redskins\"\".\"\n",
      "3890\n",
      "@Pudingtane ....yeah....I don't think its about #injuns. I think #redskins is about #politics and #alcoholism in #WashingtonDC .....\n",
      "4579\n",
      "@RonanFarrow Yeah we know about Anglo-American principles.#slavery #hate #racism\n",
      "4703\n",
      "@SteveWorks4You ..its all about you and white conservative teabaggers. You all make the world go round. Please be our rulers.....stockboy\n",
      "4913\n",
      "@SteveWorks4You @teaparty ...anti American Republicans and teabaggers stop forcing ur religion on the rest of us. Stockman u dont pray.liar\n",
      "4914\n",
      "@SteveWorks4You Friggin Red State pussy Republican. The parent too!&#8594;&#8594;&#8594;&#8594;&#8594;&#9733;\n",
      "4916\n",
      "@SteveWorks4You Golly Wompers and Dad Gum Son You lyin cheatin scoundrels fucking did it! Man up and own it ya chicken shit pussy Republican\n",
      "4917\n",
      "@THEHermanCain @redskins I'm not a liberal &amp; I support changing the name. It transcends standard political grandstanding.\n",
      "4961\n",
      "@WebAntOnYT btw Jim crow laws were supported by democrats not republicans and MLK was a republican #Fact\n",
      "5279\n",
      "@anandpradhan @kavita_krishnan funny to read retard liberal tweets. But Anand u didn't delete salwar tweet. Anyway say hi to #DigVijaySingh\n",
      "5677\n",
      "\"@aravosis May I jump in u ball-less dick-wad? As a conservative\n",
      "@artiequitter fuck 'em if they can't take a joke! liberal pussies only think jokes about sarah palin &amp; daughters are funny.\n",
      "5696\n",
      "@bill_gaines @MorningJoe ATF is in charge of prosecuting cases and the #teabagger Republicans won't confirm a director to lead the agency.\n",
      "5777\n",
      "@charlierose @jdickerson racist @NorahODonnell Texas trash GWBush came to WH numb remember he and Republicans stole the election\n",
      "5884\n",
      "@ehasselbeck @bi_politics teaching that pretend son to b a pussy! his son would have LACE ON HIS JOCK STRAP!\n",
      "6082\n",
      "@fairflattaxnow discredited by whom? Per the government the study is good and factual. Pay your bills moocher teabaggers and republicans\n",
      "6128\n",
      "@goldietaylor @theGrio puppets like Don will intentionally and forever cripple our people's ability to unify a Eco and political consensus\n",
      "6209\n",
      "@goldnsilvercoin this guys company had best year EVER...under Obama....conservative teabaggers are scum\n",
      "6213\n",
      " your racism comes out. Shocked you didn't call him Uncle Tom you bitter loser\"\n",
      "6338\n",
      "\"@intrepidokie nice lie #teabagger. Just because you want to see it doesn't make it real. Like Reagan was a conservative\n",
      " see what we REALLY do daily you liberal pussy\"\n",
      "6356\n",
      "\"@politicsofamy Whoa easy Amy\n",
      "@politicsofamy puss or pussy?\n",
      "7040\n",
      "\"@sweetakin Only rich white liberals know what's best for black people. If they don't see that\n",
      "\"@terrorwatchusa .....I think its about #Whites trying to be the most #Blackish ......what we in Socal call \"\"wiggers\"\". #liberals #democrats\"\n",
      "7341\n",
      "\"A guy claiming to be Republican called C-Span news and said \"\"Republicans hate that nigger Obama\"\" https://t.co/XZe0u7guZM\"\n",
      "7644\n",
      "\"Almost everyone I met in #Paris was absolute trash. And if they support a republican government\n",
      "And of course some rascally #teabagger on the radio is blaming the 19 dead AZ firefighters on #biggovernment. Oy vey. #tcot #p2 #teaparty\n",
      "7971\n",
      "As soon as a Democrat gets a chance to ? the political hack #foxnews goes to commercial then back with Bolton LMAO #teabaggers #benghazi\n",
      "8046\n",
      "BITCH!!! RT @jla_b: Stop thinking ur entitled to politically correct responses...bitch\n",
      "8105\n",
      " conservatives on their BS: http://t.co/l8Qx8RMjrG via @YouTube\"\n",
      "8526\n",
      "000 Florida Jobs To Raise Minimum Wage Is &#8216;Worth It&#8217; - Conservative Byte http://t.co/y3JYJ2Yf4L via @conservativebyt\"\n",
      "8653\n",
      " positive political ad.\"\n",
      "8654\n",
      "\"Charlie Crist wins Democratic primary in Florida governor's race\n",
      "\"Charlie Rangel: Some Republicans 'Believe That Slavery Isn't Over' | Truth Revolt: http://t.co/NpbdPk0Cqz \n",
      "Bam\n",
      "Don&#8217;t believe AP&#8217;s ho-hum tone: latest poll is great news for Republicans - Hot Air http://t.co/5HHrFlFP13\n",
      "9019\n",
      "Even liberals are humiliated by Charlie Rangel&#8217;s claim the GOP backs slavery - Hot Air http://t.co/I4QawESnud\n",
      "9211\n",
      "Happy Columbus Day! Even #BillMaher likes #cocaine and #Columbus!!! What the fuck is wrong with you #liberals? Fuckin' #moron #retards....\n",
      "9918\n",
      "\"Hey @RSherman_25 you're a nigger #racismisaliveandwellbro \n",
      "Hey morons at #foxnews and #foxandfriends was it political when Bush raised terror threat right before the election? LMAO at u #teabaggers\n",
      "10074\n",
      " and lived much of my life in north. I see no diff in level of racism @frendafox @melinwy @NoahCRothman\"\n",
      "10290\n",
      " but without the homophobia and racism\"\n",
      "11504\n",
      "\"I'm seventeen years old with a government job\n",
      "\"If you think that the term #redskins being offensive is a political issue\n",
      "Is there a full moon out? #CrazyAssholes out in full force and I'm not talking about muzzies or liberals&#8252;&#65039; And I'm in the mood to oblige.\n",
      "12165\n",
      "bloemPiet.?lol men weet van gekkigheid niet meer hoe ze simpele oplossing tegen racisme moet maken.Zolang maar blanke beslissing is\"\n",
      "12495\n",
      "\"LOL at the Benghazi \"\"hearings\"\" that proved nothing other than Republicans only care about taking down PBO. #foxnews #teabaggers\"\n",
      "12603\n",
      " an 18-year-old Republican who won a seat in the West Virginia legislature \n",
      "http://t.co/V01w8UamJy\"\n",
      "12699\n",
      "Ok this is funny... A proud liberal who wants to end racism calls Tim Scott an Uncle Tom Lolz lib idiots #tcot http://t.co/y6X6eagw20\n",
      "13905\n",
      "\"Only a FUCKIN\"\" #retard #liberal would think #XMen is about \"\"them\"\". No. #JesusChrist WAS A #MUTANT&gt;\"\n",
      "13998\n",
      "Pisses me of when I see these little liberal faggots wearing Che Guevara shirts. Move ur ass to Cuba. http://t.co/CUlwvpCpa7\n",
      "14189\n",
      " @FrankLuntz see conservatives as the Democrat Party see blacks. As their slave property. #tcot\"\n",
      "14315\n",
      " you lying pussy. RT @Matthops82 \"\"Republicans are afraid of me. They don't want to talk to me.\"\" - &#8230;\"\n",
      "14538\n",
      "RT @B1B_Lancer: Cue the liberal left's Uncle Tom attacks against Tim Scott in 4...3...2... #tcot #teaparty #GOP\n",
      "14600\n",
      "RT @ConsrvativeDiva: Must-Watch: Bill Maher Schools PBS Host Charlie Rose Over Islam's 'Illiberal Beliefs' http://t.co/5pq91jxOeV\n",
      "15120\n",
      "RT @FemsHaveBallz: You can no longer run a business n America unless it's deemed acceptable by 1 political group of retards known as democr&#8230;\n",
      "15544\n",
      "RT @FoxNews: #FoxNews projects that Wyoming Senator Mike Enzi will defeat Democratic challenger Charlie Hardy. #Election2014\n",
      "15584\n",
      "RT @InfidelAlie: Yay for America &amp; Israel... we put in more Jew Hating muslim trash into our government! pathetic &amp; sickening\n",
      "16020\n",
      "\"RT @KatiePavlich: Charlie Crist doesn't have any more political parties to join\n",
      "RT @Lrihendry: Pregnant S.E. Cupp&#8217;s classic response to &#8216;liberal dem&#8217; who calls her &#8216;chunky&#8217; &#8211; with bonus tweets http://t.co/U8nlYWEfiO via&#8230;\n",
      "16669\n",
      "\"RT @ProBirdRights: i see you again didn't election bird for government\n",
      "RT @ProudlyLiberal2: Charlie Crist wins Democratic primary http://t.co/FunqXo8O4O\n",
      "17350\n",
      " liberal bitches. Cry like you did when daddy left. MT @Slate: Republicans are abt to take control of state legisl&#8230;\"\n",
      "18198\n",
      "RT @Todd__Kincannon: Feminism (noun): The perverted political ideology of hateful bitches too fat to get in airplane seats --&gt; http://t.co/&#8230;\n",
      "18199\n",
      "\"RT @USRealityCheck: Republicans Want to Yank Food Stamps from the Hungry: \n",
      "\n",
      " May 16\n",
      "RT @Unorthodex: Nah I hate white people now since he looks like a dyke RT @ElBasedParko: I think he just ended racism http://t.co/VgjYHn4bvt\n",
      "18346\n",
      "\"RT @ZekeJMiller: RT @MarcACaputo: \"\"I've met few people in politics that I disrespect more than Charlie Crist\n",
      "RT @ajjacobs: Just learned that there was a 1932 Japanese political plot to assassinate Charlie Chaplin. #PleaseOptionThisTweetNow #Back ...\n",
      "18937\n",
      "RT @bjs5555: ELECT Democratic Nominee Amos Powers @Powers2014 2 #Congress #TN6 DEFEAT TEA Diane Black #Red2Blue #TNTweeters #CIR http://t.c&#8230;\n",
      "19081\n",
      "RT @bjs5555: ELECT Democratic Nominee Charlie Brown @Govcharliebrown for #Gov of #TN DEFEAT (R) Gov. Bill Haslam! @UniteBlueTN http://t.co/&#8230;\n",
      "19082\n",
      "RT @bjs5555: ELECT Democratic Nominee Charlie Hardy @runwithcharlie to U.S. Senate. #WY Defeat TEA Mike Enzi. #TNTweeters #CIR http://t.co&#8230;\n",
      "19083\n",
      "RT @briangaar: Old white people complaining about government tyranny is like the Yankees being upset that players make too much money\n",
      "19105\n",
      "\"RT @carrielusch: You might be a liberal if you continue to trash America\n",
      "RT @hildismom: MT @jjauthor: US ghettos-driven by liberal ideology; http://t.co/6ONYrmggND #RedMeat\n",
      "19520\n",
      "RT @iamyaokhari: 500 years of racism and they think nigger hurts my feelings lol. White people are funny.\n",
      "19655\n",
      "RT @jjauthor: US ghettos-driven by liberal ideology; forged by unions &amp; bankrupted by self-serving Dems catering 2parasites! #tcot http://t&#8230;\n",
      "19796\n",
      "RT @jjauthor: US ghettos-driven by liberal ideology; forged by unions &amp; bankrupted by self-serving Dems catering to parasites!#tcot http://&#8230;\n",
      "19797\n",
      " the jig is up. Even democrats are through with you. #ReasonToExitAnObamaSpeech\"\" dems are raci&#8230;\"\n",
      "20174\n",
      "RT @nicky0472: @rickahyatt @1visionamd who better 2 b the Manchurian candidate. Think abt it we bitch abt his policy and he screams racism.&#8230;\n",
      "20190\n",
      "\"RT @politico: Republican Rick Scott has been reelected #FLGov\n",
      "\"RT @psjohnson23: The problem with retard liberals is they think Supply &amp; Demand means \"\"Supply me with everything I Demand.\"\" #VotingMatters\"\n",
      "20312\n",
      "\"RT @viper5816: Sen. Harry Reid Lists all the Things Republicans Have Blocked in the Senate http://t.co/bjoWvABwhi via @townhallcom\n",
      "He is ho&#8230;\"\n",
      "20739\n",
      "\"RT @walkerkpt: Prediction- \"\"Obama will leave the Democratic Party in shambles \"\"&#128563; oh gosh\n",
      "Republicans aren't the only racist in America. We have racist Democrats too. But don't play the token negro card... http://t.co/FT5c4yhraG\n",
      "20967\n",
      "Rotherdam #RapeJihad coverup: young girls sacrificed on altar of political correctness in favor pf paki pedo gangs http://t.co/RDgyG6GURv\n",
      "20997\n",
      "\"The @GOP elite call conservatives \"\"our niggers\"\" behind closed doors. #tcot #teaparty\"\n",
      "21946\n",
      "The Republican Lt Governor of Missouri says he's sorry he called LAW Anglo-American Law. Racist Pig That he is...\n",
      "21968\n",
      "\"The way a Klansman would say \"\"nigger slave\"\" is the way the @GOP says \"\"Conservative\"\". They @GOP literally sees conservatives as their slaves.\"\n",
      "22095\n",
      " I won't let racism become a big trend again. I refuse. Over my fuckin dead body bitches\n",
      "\"how much you wanna bet that a anti-government \"\"black helicopter\"\" teabagger was behind the Boston Marathon explosions? @TwitchyTeam #p2 #tcot\"\n",
      "24444\n"
     ]
    }
   ],
   "source": [
    "searches = ['Republican', 'democrats', 'Democratic', 'government', 'politics', 'political', 'racism', 'liberal', 'conservative']\n",
    "\n",
    "for sentence in data:\n",
    "    if any(i in sentence for i in searches):\n",
    "        print(sentence)\n",
    "        "
   ]
  },
  {
   "cell_type": "markdown",
   "metadata": {},
   "source": [
    "We used the Sentiment dataset to analyze if politics polarise people as the Hate speech and offensive language dataset had an insufficient amount of information to profoundly study and implement for our research work. "
   ]
  },
  {
   "cell_type": "code",
   "execution_count": 398,
   "metadata": {},
   "outputs": [
    {
     "data": {
      "text/html": [
       "<div>\n",
       "<style scoped>\n",
       "    .dataframe tbody tr th:only-of-type {\n",
       "        vertical-align: middle;\n",
       "    }\n",
       "\n",
       "    .dataframe tbody tr th {\n",
       "        vertical-align: top;\n",
       "    }\n",
       "\n",
       "    .dataframe thead th {\n",
       "        text-align: right;\n",
       "    }\n",
       "</style>\n",
       "<table border=\"1\" class=\"dataframe\">\n",
       "  <thead>\n",
       "    <tr style=\"text-align: right;\">\n",
       "      <th></th>\n",
       "      <th>candidate</th>\n",
       "      <th>candidate_confidence</th>\n",
       "      <th>relevant_yn</th>\n",
       "      <th>relevant_yn_confidence</th>\n",
       "      <th>sentiment</th>\n",
       "      <th>sentiment_confidence</th>\n",
       "      <th>subject_matter</th>\n",
       "      <th>subject_matter_confidence</th>\n",
       "      <th>candidate_gold</th>\n",
       "      <th>name</th>\n",
       "      <th>relevant_yn_gold</th>\n",
       "      <th>retweet_count</th>\n",
       "      <th>sentiment_gold</th>\n",
       "      <th>subject_matter_gold</th>\n",
       "      <th>text</th>\n",
       "      <th>tweet_coord</th>\n",
       "      <th>tweet_created</th>\n",
       "      <th>tweet_id</th>\n",
       "      <th>tweet_location</th>\n",
       "      <th>user_timezone</th>\n",
       "    </tr>\n",
       "  </thead>\n",
       "  <tbody>\n",
       "    <tr>\n",
       "      <th>0</th>\n",
       "      <td>No candidate mentioned</td>\n",
       "      <td>1.0000</td>\n",
       "      <td>yes</td>\n",
       "      <td>1.0000</td>\n",
       "      <td>Neutral</td>\n",
       "      <td>0.6578</td>\n",
       "      <td>None of the above</td>\n",
       "      <td>1.0000</td>\n",
       "      <td>0</td>\n",
       "      <td>I_Am_Kenzi</td>\n",
       "      <td>0</td>\n",
       "      <td>5</td>\n",
       "      <td>0</td>\n",
       "      <td>NaN</td>\n",
       "      <td>RT @NancyLeeGrahn: How did everyone feel about...</td>\n",
       "      <td>NaN</td>\n",
       "      <td>07/08/2015 09:54</td>\n",
       "      <td>6.300000e+17</td>\n",
       "      <td>NaN</td>\n",
       "      <td>Quito</td>\n",
       "    </tr>\n",
       "    <tr>\n",
       "      <th>1</th>\n",
       "      <td>Scott Walker</td>\n",
       "      <td>1.0000</td>\n",
       "      <td>yes</td>\n",
       "      <td>1.0000</td>\n",
       "      <td>Positive</td>\n",
       "      <td>0.6333</td>\n",
       "      <td>None of the above</td>\n",
       "      <td>1.0000</td>\n",
       "      <td>0</td>\n",
       "      <td>PeacefulQuest</td>\n",
       "      <td>0</td>\n",
       "      <td>26</td>\n",
       "      <td>0</td>\n",
       "      <td>NaN</td>\n",
       "      <td>RT @ScottWalker: Didn't catch the full #GOPdeb...</td>\n",
       "      <td>NaN</td>\n",
       "      <td>07/08/2015 09:54</td>\n",
       "      <td>6.300000e+17</td>\n",
       "      <td>NaN</td>\n",
       "      <td>NaN</td>\n",
       "    </tr>\n",
       "    <tr>\n",
       "      <th>2</th>\n",
       "      <td>No candidate mentioned</td>\n",
       "      <td>1.0000</td>\n",
       "      <td>yes</td>\n",
       "      <td>1.0000</td>\n",
       "      <td>Neutral</td>\n",
       "      <td>0.6629</td>\n",
       "      <td>None of the above</td>\n",
       "      <td>0.6629</td>\n",
       "      <td>0</td>\n",
       "      <td>PussssyCroook</td>\n",
       "      <td>0</td>\n",
       "      <td>27</td>\n",
       "      <td>0</td>\n",
       "      <td>NaN</td>\n",
       "      <td>RT @TJMShow: No mention of Tamir Rice and the ...</td>\n",
       "      <td>NaN</td>\n",
       "      <td>07/08/2015 09:54</td>\n",
       "      <td>6.300000e+17</td>\n",
       "      <td>NaN</td>\n",
       "      <td>NaN</td>\n",
       "    </tr>\n",
       "    <tr>\n",
       "      <th>3</th>\n",
       "      <td>No candidate mentioned</td>\n",
       "      <td>1.0000</td>\n",
       "      <td>yes</td>\n",
       "      <td>1.0000</td>\n",
       "      <td>Positive</td>\n",
       "      <td>1.0000</td>\n",
       "      <td>None of the above</td>\n",
       "      <td>0.7039</td>\n",
       "      <td>0</td>\n",
       "      <td>MattFromTexas31</td>\n",
       "      <td>0</td>\n",
       "      <td>138</td>\n",
       "      <td>0</td>\n",
       "      <td>NaN</td>\n",
       "      <td>RT @RobGeorge: That Carly Fiorina is trending ...</td>\n",
       "      <td>NaN</td>\n",
       "      <td>07/08/2015 09:54</td>\n",
       "      <td>6.300000e+17</td>\n",
       "      <td>Texas</td>\n",
       "      <td>Central Time (US &amp; Canada)</td>\n",
       "    </tr>\n",
       "    <tr>\n",
       "      <th>4</th>\n",
       "      <td>Donald Trump</td>\n",
       "      <td>1.0000</td>\n",
       "      <td>yes</td>\n",
       "      <td>1.0000</td>\n",
       "      <td>Positive</td>\n",
       "      <td>0.7045</td>\n",
       "      <td>None of the above</td>\n",
       "      <td>1.0000</td>\n",
       "      <td>0</td>\n",
       "      <td>sharonDay5</td>\n",
       "      <td>0</td>\n",
       "      <td>156</td>\n",
       "      <td>0</td>\n",
       "      <td>NaN</td>\n",
       "      <td>RT @DanScavino: #GOPDebate w/ @realDonaldTrump...</td>\n",
       "      <td>NaN</td>\n",
       "      <td>07/08/2015 09:54</td>\n",
       "      <td>6.300000e+17</td>\n",
       "      <td>NaN</td>\n",
       "      <td>Arizona</td>\n",
       "    </tr>\n",
       "    <tr>\n",
       "      <th>...</th>\n",
       "      <td>...</td>\n",
       "      <td>...</td>\n",
       "      <td>...</td>\n",
       "      <td>...</td>\n",
       "      <td>...</td>\n",
       "      <td>...</td>\n",
       "      <td>...</td>\n",
       "      <td>...</td>\n",
       "      <td>...</td>\n",
       "      <td>...</td>\n",
       "      <td>...</td>\n",
       "      <td>...</td>\n",
       "      <td>...</td>\n",
       "      <td>...</td>\n",
       "      <td>...</td>\n",
       "      <td>...</td>\n",
       "      <td>...</td>\n",
       "      <td>...</td>\n",
       "      <td>...</td>\n",
       "      <td>...</td>\n",
       "    </tr>\n",
       "    <tr>\n",
       "      <th>13866</th>\n",
       "      <td>No candidate mentioned</td>\n",
       "      <td>1.0000</td>\n",
       "      <td>yes</td>\n",
       "      <td>1.0000</td>\n",
       "      <td>Negative</td>\n",
       "      <td>0.7991</td>\n",
       "      <td>Abortion</td>\n",
       "      <td>0.6014</td>\n",
       "      <td>No candidate mentioned</td>\n",
       "      <td>SantoliDonato</td>\n",
       "      <td>yes</td>\n",
       "      <td>7</td>\n",
       "      <td>Negative</td>\n",
       "      <td>Abortion\\nWomen's Issues (not abortion though)</td>\n",
       "      <td>RT @cappy_yarbrough: Love to see men who will ...</td>\n",
       "      <td>NaN</td>\n",
       "      <td>07/08/2015 09:29</td>\n",
       "      <td>6.300000e+17</td>\n",
       "      <td>Como</td>\n",
       "      <td>NaN</td>\n",
       "    </tr>\n",
       "    <tr>\n",
       "      <th>13867</th>\n",
       "      <td>Mike Huckabee</td>\n",
       "      <td>0.9611</td>\n",
       "      <td>yes</td>\n",
       "      <td>1.0000</td>\n",
       "      <td>Positive</td>\n",
       "      <td>0.7302</td>\n",
       "      <td>None of the above</td>\n",
       "      <td>0.9229</td>\n",
       "      <td>Mike Huckabee</td>\n",
       "      <td>mhfa16hq</td>\n",
       "      <td>yes</td>\n",
       "      <td>1</td>\n",
       "      <td>0</td>\n",
       "      <td>NaN</td>\n",
       "      <td>RT @georgehenryw: Who thought Huckabee exceede...</td>\n",
       "      <td>NaN</td>\n",
       "      <td>07/08/2015 09:25</td>\n",
       "      <td>6.300000e+17</td>\n",
       "      <td>USA</td>\n",
       "      <td>NaN</td>\n",
       "    </tr>\n",
       "    <tr>\n",
       "      <th>13868</th>\n",
       "      <td>Ted Cruz</td>\n",
       "      <td>1.0000</td>\n",
       "      <td>yes</td>\n",
       "      <td>1.0000</td>\n",
       "      <td>Positive</td>\n",
       "      <td>0.8051</td>\n",
       "      <td>None of the above</td>\n",
       "      <td>0.9647</td>\n",
       "      <td>Ted Cruz</td>\n",
       "      <td>DrottM</td>\n",
       "      <td>yes</td>\n",
       "      <td>67</td>\n",
       "      <td>Positive\\nNeutral</td>\n",
       "      <td>NaN</td>\n",
       "      <td>RT @Lrihendry: #TedCruz As President, I will a...</td>\n",
       "      <td>NaN</td>\n",
       "      <td>07/08/2015 07:19</td>\n",
       "      <td>6.300000e+17</td>\n",
       "      <td>NaN</td>\n",
       "      <td>NaN</td>\n",
       "    </tr>\n",
       "    <tr>\n",
       "      <th>13869</th>\n",
       "      <td>Donald Trump</td>\n",
       "      <td>1.0000</td>\n",
       "      <td>yes</td>\n",
       "      <td>1.0000</td>\n",
       "      <td>Negative</td>\n",
       "      <td>1.0000</td>\n",
       "      <td>Women's Issues (not abortion though)</td>\n",
       "      <td>0.9202</td>\n",
       "      <td>Donald Trump</td>\n",
       "      <td>danijeantheq</td>\n",
       "      <td>yes</td>\n",
       "      <td>149</td>\n",
       "      <td>0</td>\n",
       "      <td>Women's Issues (not abortion though)</td>\n",
       "      <td>RT @JRehling: #GOPDebate Donald Trump says tha...</td>\n",
       "      <td>NaN</td>\n",
       "      <td>07/08/2015 09:54</td>\n",
       "      <td>6.300000e+17</td>\n",
       "      <td>NaN</td>\n",
       "      <td>NaN</td>\n",
       "    </tr>\n",
       "    <tr>\n",
       "      <th>13870</th>\n",
       "      <td>Ted Cruz</td>\n",
       "      <td>0.9242</td>\n",
       "      <td>yes</td>\n",
       "      <td>0.9614</td>\n",
       "      <td>Positive</td>\n",
       "      <td>0.9614</td>\n",
       "      <td>None of the above</td>\n",
       "      <td>0.9242</td>\n",
       "      <td>Ted Cruz</td>\n",
       "      <td>MichaelHuff52</td>\n",
       "      <td>yes</td>\n",
       "      <td>65</td>\n",
       "      <td>Positive</td>\n",
       "      <td>NaN</td>\n",
       "      <td>RT @Lrihendry: #TedCruz headed into the Presid...</td>\n",
       "      <td>NaN</td>\n",
       "      <td>06/08/2015 18:22</td>\n",
       "      <td>6.290000e+17</td>\n",
       "      <td>San Antonio, TX</td>\n",
       "      <td>Central Time (US &amp; Canada)</td>\n",
       "    </tr>\n",
       "  </tbody>\n",
       "</table>\n",
       "<p>13871 rows × 20 columns</p>\n",
       "</div>"
      ],
      "text/plain": [
       "                    candidate  candidate_confidence relevant_yn  \\\n",
       "0      No candidate mentioned                1.0000         yes   \n",
       "1                Scott Walker                1.0000         yes   \n",
       "2      No candidate mentioned                1.0000         yes   \n",
       "3      No candidate mentioned                1.0000         yes   \n",
       "4                Donald Trump                1.0000         yes   \n",
       "...                       ...                   ...         ...   \n",
       "13866  No candidate mentioned                1.0000         yes   \n",
       "13867           Mike Huckabee                0.9611         yes   \n",
       "13868                Ted Cruz                1.0000         yes   \n",
       "13869            Donald Trump                1.0000         yes   \n",
       "13870                Ted Cruz                0.9242         yes   \n",
       "\n",
       "       relevant_yn_confidence sentiment  sentiment_confidence  \\\n",
       "0                      1.0000   Neutral                0.6578   \n",
       "1                      1.0000  Positive                0.6333   \n",
       "2                      1.0000   Neutral                0.6629   \n",
       "3                      1.0000  Positive                1.0000   \n",
       "4                      1.0000  Positive                0.7045   \n",
       "...                       ...       ...                   ...   \n",
       "13866                  1.0000  Negative                0.7991   \n",
       "13867                  1.0000  Positive                0.7302   \n",
       "13868                  1.0000  Positive                0.8051   \n",
       "13869                  1.0000  Negative                1.0000   \n",
       "13870                  0.9614  Positive                0.9614   \n",
       "\n",
       "                             subject_matter  subject_matter_confidence  \\\n",
       "0                         None of the above                     1.0000   \n",
       "1                         None of the above                     1.0000   \n",
       "2                         None of the above                     0.6629   \n",
       "3                         None of the above                     0.7039   \n",
       "4                         None of the above                     1.0000   \n",
       "...                                     ...                        ...   \n",
       "13866                              Abortion                     0.6014   \n",
       "13867                     None of the above                     0.9229   \n",
       "13868                     None of the above                     0.9647   \n",
       "13869  Women's Issues (not abortion though)                     0.9202   \n",
       "13870                     None of the above                     0.9242   \n",
       "\n",
       "               candidate_gold             name relevant_yn_gold  \\\n",
       "0                           0       I_Am_Kenzi                0   \n",
       "1                           0    PeacefulQuest                0   \n",
       "2                           0    PussssyCroook                0   \n",
       "3                           0  MattFromTexas31                0   \n",
       "4                           0       sharonDay5                0   \n",
       "...                       ...              ...              ...   \n",
       "13866  No candidate mentioned    SantoliDonato              yes   \n",
       "13867           Mike Huckabee         mhfa16hq              yes   \n",
       "13868                Ted Cruz           DrottM              yes   \n",
       "13869            Donald Trump     danijeantheq              yes   \n",
       "13870                Ted Cruz    MichaelHuff52              yes   \n",
       "\n",
       "       retweet_count     sentiment_gold  \\\n",
       "0                  5                  0   \n",
       "1                 26                  0   \n",
       "2                 27                  0   \n",
       "3                138                  0   \n",
       "4                156                  0   \n",
       "...              ...                ...   \n",
       "13866              7           Negative   \n",
       "13867              1                  0   \n",
       "13868             67  Positive\\nNeutral   \n",
       "13869            149                  0   \n",
       "13870             65           Positive   \n",
       "\n",
       "                                  subject_matter_gold  \\\n",
       "0                                                 NaN   \n",
       "1                                                 NaN   \n",
       "2                                                 NaN   \n",
       "3                                                 NaN   \n",
       "4                                                 NaN   \n",
       "...                                               ...   \n",
       "13866  Abortion\\nWomen's Issues (not abortion though)   \n",
       "13867                                             NaN   \n",
       "13868                                             NaN   \n",
       "13869            Women's Issues (not abortion though)   \n",
       "13870                                             NaN   \n",
       "\n",
       "                                                    text tweet_coord  \\\n",
       "0      RT @NancyLeeGrahn: How did everyone feel about...         NaN   \n",
       "1      RT @ScottWalker: Didn't catch the full #GOPdeb...         NaN   \n",
       "2      RT @TJMShow: No mention of Tamir Rice and the ...         NaN   \n",
       "3      RT @RobGeorge: That Carly Fiorina is trending ...         NaN   \n",
       "4      RT @DanScavino: #GOPDebate w/ @realDonaldTrump...         NaN   \n",
       "...                                                  ...         ...   \n",
       "13866  RT @cappy_yarbrough: Love to see men who will ...         NaN   \n",
       "13867  RT @georgehenryw: Who thought Huckabee exceede...         NaN   \n",
       "13868  RT @Lrihendry: #TedCruz As President, I will a...         NaN   \n",
       "13869  RT @JRehling: #GOPDebate Donald Trump says tha...         NaN   \n",
       "13870  RT @Lrihendry: #TedCruz headed into the Presid...         NaN   \n",
       "\n",
       "          tweet_created      tweet_id   tweet_location  \\\n",
       "0      07/08/2015 09:54  6.300000e+17              NaN   \n",
       "1      07/08/2015 09:54  6.300000e+17              NaN   \n",
       "2      07/08/2015 09:54  6.300000e+17              NaN   \n",
       "3      07/08/2015 09:54  6.300000e+17            Texas   \n",
       "4      07/08/2015 09:54  6.300000e+17              NaN   \n",
       "...                 ...           ...              ...   \n",
       "13866  07/08/2015 09:29  6.300000e+17             Como   \n",
       "13867  07/08/2015 09:25  6.300000e+17              USA   \n",
       "13868  07/08/2015 07:19  6.300000e+17              NaN   \n",
       "13869  07/08/2015 09:54  6.300000e+17              NaN   \n",
       "13870  06/08/2015 18:22  6.290000e+17  San Antonio, TX   \n",
       "\n",
       "                    user_timezone  \n",
       "0                           Quito  \n",
       "1                             NaN  \n",
       "2                             NaN  \n",
       "3      Central Time (US & Canada)  \n",
       "4                         Arizona  \n",
       "...                           ...  \n",
       "13866                         NaN  \n",
       "13867                         NaN  \n",
       "13868                         NaN  \n",
       "13869                         NaN  \n",
       "13870  Central Time (US & Canada)  \n",
       "\n",
       "[13871 rows x 20 columns]"
      ]
     },
     "execution_count": 398,
     "metadata": {},
     "output_type": "execute_result"
    }
   ],
   "source": [
    "#Loading the Sentiment data into a dataframe\n",
    "dataframe = pd.read_csv('Sentiment-csv.csv' , encoding = \"utf8\")\n",
    "\n",
    "dataframe"
   ]
  },
  {
   "cell_type": "code",
   "execution_count": 399,
   "metadata": {},
   "outputs": [
    {
     "data": {
      "text/plain": [
       "Index(['candidate', 'candidate_confidence', 'relevant_yn',\n",
       "       'relevant_yn_confidence', 'sentiment', 'sentiment_confidence',\n",
       "       'subject_matter', 'subject_matter_confidence', 'candidate_gold', 'name',\n",
       "       'relevant_yn_gold', 'retweet_count', 'sentiment_gold',\n",
       "       'subject_matter_gold', 'text', 'tweet_coord', 'tweet_created',\n",
       "       'tweet_id', 'tweet_location', 'user_timezone'],\n",
       "      dtype='object')"
      ]
     },
     "execution_count": 399,
     "metadata": {},
     "output_type": "execute_result"
    }
   ],
   "source": [
    "#Exploring the columns\n",
    "dataframe.columns"
   ]
  },
  {
   "cell_type": "code",
   "execution_count": 400,
   "metadata": {},
   "outputs": [
    {
     "data": {
      "text/html": [
       "<div>\n",
       "<style scoped>\n",
       "    .dataframe tbody tr th:only-of-type {\n",
       "        vertical-align: middle;\n",
       "    }\n",
       "\n",
       "    .dataframe tbody tr th {\n",
       "        vertical-align: top;\n",
       "    }\n",
       "\n",
       "    .dataframe thead th {\n",
       "        text-align: right;\n",
       "    }\n",
       "</style>\n",
       "<table border=\"1\" class=\"dataframe\">\n",
       "  <thead>\n",
       "    <tr style=\"text-align: right;\">\n",
       "      <th></th>\n",
       "      <th>sentiment</th>\n",
       "      <th>subject_matter</th>\n",
       "      <th>retweet_count</th>\n",
       "      <th>text</th>\n",
       "    </tr>\n",
       "  </thead>\n",
       "  <tbody>\n",
       "    <tr>\n",
       "      <th>0</th>\n",
       "      <td>Neutral</td>\n",
       "      <td>None of the above</td>\n",
       "      <td>5</td>\n",
       "      <td>RT @NancyLeeGrahn: How did everyone feel about...</td>\n",
       "    </tr>\n",
       "    <tr>\n",
       "      <th>1</th>\n",
       "      <td>Positive</td>\n",
       "      <td>None of the above</td>\n",
       "      <td>26</td>\n",
       "      <td>RT @ScottWalker: Didn't catch the full #GOPdeb...</td>\n",
       "    </tr>\n",
       "    <tr>\n",
       "      <th>2</th>\n",
       "      <td>Neutral</td>\n",
       "      <td>None of the above</td>\n",
       "      <td>27</td>\n",
       "      <td>RT @TJMShow: No mention of Tamir Rice and the ...</td>\n",
       "    </tr>\n",
       "    <tr>\n",
       "      <th>3</th>\n",
       "      <td>Positive</td>\n",
       "      <td>None of the above</td>\n",
       "      <td>138</td>\n",
       "      <td>RT @RobGeorge: That Carly Fiorina is trending ...</td>\n",
       "    </tr>\n",
       "    <tr>\n",
       "      <th>4</th>\n",
       "      <td>Positive</td>\n",
       "      <td>None of the above</td>\n",
       "      <td>156</td>\n",
       "      <td>RT @DanScavino: #GOPDebate w/ @realDonaldTrump...</td>\n",
       "    </tr>\n",
       "    <tr>\n",
       "      <th>...</th>\n",
       "      <td>...</td>\n",
       "      <td>...</td>\n",
       "      <td>...</td>\n",
       "      <td>...</td>\n",
       "    </tr>\n",
       "    <tr>\n",
       "      <th>13866</th>\n",
       "      <td>Negative</td>\n",
       "      <td>Abortion</td>\n",
       "      <td>7</td>\n",
       "      <td>RT @cappy_yarbrough: Love to see men who will ...</td>\n",
       "    </tr>\n",
       "    <tr>\n",
       "      <th>13867</th>\n",
       "      <td>Positive</td>\n",
       "      <td>None of the above</td>\n",
       "      <td>1</td>\n",
       "      <td>RT @georgehenryw: Who thought Huckabee exceede...</td>\n",
       "    </tr>\n",
       "    <tr>\n",
       "      <th>13868</th>\n",
       "      <td>Positive</td>\n",
       "      <td>None of the above</td>\n",
       "      <td>67</td>\n",
       "      <td>RT @Lrihendry: #TedCruz As President, I will a...</td>\n",
       "    </tr>\n",
       "    <tr>\n",
       "      <th>13869</th>\n",
       "      <td>Negative</td>\n",
       "      <td>Women's Issues (not abortion though)</td>\n",
       "      <td>149</td>\n",
       "      <td>RT @JRehling: #GOPDebate Donald Trump says tha...</td>\n",
       "    </tr>\n",
       "    <tr>\n",
       "      <th>13870</th>\n",
       "      <td>Positive</td>\n",
       "      <td>None of the above</td>\n",
       "      <td>65</td>\n",
       "      <td>RT @Lrihendry: #TedCruz headed into the Presid...</td>\n",
       "    </tr>\n",
       "  </tbody>\n",
       "</table>\n",
       "<p>13871 rows × 4 columns</p>\n",
       "</div>"
      ],
      "text/plain": [
       "      sentiment                        subject_matter  retweet_count  \\\n",
       "0       Neutral                     None of the above              5   \n",
       "1      Positive                     None of the above             26   \n",
       "2       Neutral                     None of the above             27   \n",
       "3      Positive                     None of the above            138   \n",
       "4      Positive                     None of the above            156   \n",
       "...         ...                                   ...            ...   \n",
       "13866  Negative                              Abortion              7   \n",
       "13867  Positive                     None of the above              1   \n",
       "13868  Positive                     None of the above             67   \n",
       "13869  Negative  Women's Issues (not abortion though)            149   \n",
       "13870  Positive                     None of the above             65   \n",
       "\n",
       "                                                    text  \n",
       "0      RT @NancyLeeGrahn: How did everyone feel about...  \n",
       "1      RT @ScottWalker: Didn't catch the full #GOPdeb...  \n",
       "2      RT @TJMShow: No mention of Tamir Rice and the ...  \n",
       "3      RT @RobGeorge: That Carly Fiorina is trending ...  \n",
       "4      RT @DanScavino: #GOPDebate w/ @realDonaldTrump...  \n",
       "...                                                  ...  \n",
       "13866  RT @cappy_yarbrough: Love to see men who will ...  \n",
       "13867  RT @georgehenryw: Who thought Huckabee exceede...  \n",
       "13868  RT @Lrihendry: #TedCruz As President, I will a...  \n",
       "13869  RT @JRehling: #GOPDebate Donald Trump says tha...  \n",
       "13870  RT @Lrihendry: #TedCruz headed into the Presid...  \n",
       "\n",
       "[13871 rows x 4 columns]"
      ]
     },
     "execution_count": 400,
     "metadata": {},
     "output_type": "execute_result"
    }
   ],
   "source": [
    "#Dropping the columns that are not useful to train our machine learning models\n",
    "dataframe.drop([ 'candidate', 'candidate_confidence', 'relevant_yn',\n",
    "       'relevant_yn_confidence','sentiment_confidence',\n",
    "       'subject_matter_confidence', 'candidate_gold', 'name',\n",
    "       'relevant_yn_gold','sentiment_gold',\n",
    "       'subject_matter_gold','tweet_coord', 'tweet_created',\n",
    "       'tweet_id', 'tweet_location', 'user_timezone'], axis = 1, inplace = True) \n",
    "dataframe"
   ]
  },
  {
   "cell_type": "code",
   "execution_count": 401,
   "metadata": {},
   "outputs": [],
   "source": [
    "#Now we convert the dataframe into a csv file \n",
    "FILE = dataframe.to_csv(r'../AI2/updated_data.csv', index = False)"
   ]
  },
  {
   "cell_type": "code",
   "execution_count": 402,
   "metadata": {},
   "outputs": [
    {
     "data": {
      "text/plain": [
       "array([5898, 6307, 6485, ..., 8485, 3940, 9458])"
      ]
     },
     "execution_count": 402,
     "metadata": {},
     "output_type": "execute_result"
    }
   ],
   "source": [
    "#We load the dataset \"updated_data.csv\" here \n",
    "df = pd.read_csv('updated_data.csv' , encoding = \"utf8\")\n",
    "\n",
    "#We convert the columns 'text', 'subject_matter' to float and store it in new columns as this will help us \n",
    "# to build the train-test split and also train these columns.\n",
    "\n",
    "# Importing label encoder \n",
    "from sklearn import preprocessing \n",
    "\n",
    "# label_encoder object knows how to understand word labels. \n",
    "label_encoder = preprocessing.LabelEncoder() \n",
    "\n",
    "# Encode labels in column. \n",
    "df['text_Float']= label_encoder.fit_transform(df['text']) \n",
    "df['subject_matter_Float']= label_encoder.fit_transform(df['subject_matter']) \n",
    "\n",
    "df['text_Float'].unique() \n"
   ]
  },
  {
   "cell_type": "code",
   "execution_count": 403,
   "metadata": {},
   "outputs": [
    {
     "data": {
      "text/html": [
       "<div>\n",
       "<style scoped>\n",
       "    .dataframe tbody tr th:only-of-type {\n",
       "        vertical-align: middle;\n",
       "    }\n",
       "\n",
       "    .dataframe tbody tr th {\n",
       "        vertical-align: top;\n",
       "    }\n",
       "\n",
       "    .dataframe thead th {\n",
       "        text-align: right;\n",
       "    }\n",
       "</style>\n",
       "<table border=\"1\" class=\"dataframe\">\n",
       "  <thead>\n",
       "    <tr style=\"text-align: right;\">\n",
       "      <th></th>\n",
       "      <th>sentiment</th>\n",
       "      <th>subject_matter</th>\n",
       "      <th>retweet_count</th>\n",
       "      <th>text</th>\n",
       "      <th>text_Float</th>\n",
       "      <th>subject_matter_Float</th>\n",
       "    </tr>\n",
       "  </thead>\n",
       "  <tbody>\n",
       "    <tr>\n",
       "      <th>0</th>\n",
       "      <td>Neutral</td>\n",
       "      <td>None of the above</td>\n",
       "      <td>5</td>\n",
       "      <td>RT @NancyLeeGrahn: How did everyone feel about...</td>\n",
       "      <td>5898</td>\n",
       "      <td>9</td>\n",
       "    </tr>\n",
       "    <tr>\n",
       "      <th>1</th>\n",
       "      <td>Positive</td>\n",
       "      <td>None of the above</td>\n",
       "      <td>26</td>\n",
       "      <td>RT @ScottWalker: Didn't catch the full #GOPdeb...</td>\n",
       "      <td>6307</td>\n",
       "      <td>9</td>\n",
       "    </tr>\n",
       "    <tr>\n",
       "      <th>2</th>\n",
       "      <td>Neutral</td>\n",
       "      <td>None of the above</td>\n",
       "      <td>27</td>\n",
       "      <td>RT @TJMShow: No mention of Tamir Rice and the ...</td>\n",
       "      <td>6485</td>\n",
       "      <td>9</td>\n",
       "    </tr>\n",
       "    <tr>\n",
       "      <th>3</th>\n",
       "      <td>Positive</td>\n",
       "      <td>None of the above</td>\n",
       "      <td>138</td>\n",
       "      <td>RT @RobGeorge: That Carly Fiorina is trending ...</td>\n",
       "      <td>6225</td>\n",
       "      <td>9</td>\n",
       "    </tr>\n",
       "    <tr>\n",
       "      <th>4</th>\n",
       "      <td>Positive</td>\n",
       "      <td>None of the above</td>\n",
       "      <td>156</td>\n",
       "      <td>RT @DanScavino: #GOPDebate w/ @realDonaldTrump...</td>\n",
       "      <td>4936</td>\n",
       "      <td>9</td>\n",
       "    </tr>\n",
       "  </tbody>\n",
       "</table>\n",
       "</div>"
      ],
      "text/plain": [
       "  sentiment     subject_matter  retweet_count  \\\n",
       "0   Neutral  None of the above              5   \n",
       "1  Positive  None of the above             26   \n",
       "2   Neutral  None of the above             27   \n",
       "3  Positive  None of the above            138   \n",
       "4  Positive  None of the above            156   \n",
       "\n",
       "                                                text  text_Float  \\\n",
       "0  RT @NancyLeeGrahn: How did everyone feel about...        5898   \n",
       "1  RT @ScottWalker: Didn't catch the full #GOPdeb...        6307   \n",
       "2  RT @TJMShow: No mention of Tamir Rice and the ...        6485   \n",
       "3  RT @RobGeorge: That Carly Fiorina is trending ...        6225   \n",
       "4  RT @DanScavino: #GOPDebate w/ @realDonaldTrump...        4936   \n",
       "\n",
       "   subject_matter_Float  \n",
       "0                     9  \n",
       "1                     9  \n",
       "2                     9  \n",
       "3                     9  \n",
       "4                     9  "
      ]
     },
     "execution_count": 403,
     "metadata": {},
     "output_type": "execute_result"
    }
   ],
   "source": [
    "df.head()"
   ]
  },
  {
   "cell_type": "code",
   "execution_count": 404,
   "metadata": {},
   "outputs": [
    {
     "data": {
      "text/plain": [
       "sentiment               0\n",
       "subject_matter          0\n",
       "retweet_count           0\n",
       "text                    0\n",
       "text_Float              0\n",
       "subject_matter_Float    0\n",
       "dtype: int64"
      ]
     },
     "execution_count": 404,
     "metadata": {},
     "output_type": "execute_result"
    }
   ],
   "source": [
    "#Checking for null values\n",
    "df.isnull().sum()"
   ]
  },
  {
   "cell_type": "code",
   "execution_count": 405,
   "metadata": {},
   "outputs": [
    {
     "data": {
      "text/plain": [
       "None of the above                       8148\n",
       "FOX News or Moderators                  2900\n",
       "Religion                                 407\n",
       "Foreign Policy                           366\n",
       "Women's Issues (not abortion though)     362\n",
       "Racial issues                            353\n",
       "0                                        326\n",
       "Abortion                                 293\n",
       "Jobs and Economy                         251\n",
       "Immigration                              211\n",
       "LGBT issues                              126\n",
       "Healthcare (including Medicare)           67\n",
       "Gun Control                               61\n",
       "Name: subject_matter, dtype: int64"
      ]
     },
     "execution_count": 405,
     "metadata": {},
     "output_type": "execute_result"
    }
   ],
   "source": [
    "#Exploring the subject matters\n",
    "df[\"subject_matter\"].value_counts()\n"
   ]
  },
  {
   "cell_type": "code",
   "execution_count": 406,
   "metadata": {},
   "outputs": [],
   "source": [
    "#Converting columns to series\n",
    "df.columns = df.columns.to_series().apply(lambda x: x.strip())\n"
   ]
  },
  {
   "cell_type": "code",
   "execution_count": 407,
   "metadata": {},
   "outputs": [],
   "source": [
    "#Before we instantiate our ML model, we divide the dataset into two smaller training and testing datasets.\n",
    "#We also set up our Features (X) and Labels (y) where X is 'text_Float','subject_matter_Float', and 'retweet_count'.\n",
    "#y is 'sentiment'\n",
    "\n",
    "#Importing train_test_split\n",
    "from sklearn.model_selection import train_test_split\n",
    "\n",
    "# test size represents the proportion of training and testing data split. \n",
    "X = df[['text_Float','subject_matter_Float', 'retweet_count']]\n",
    "y = df['sentiment']\n",
    "\n",
    "#Random_state is set to 1 to define the \"randomness\" of data randomisation\n",
    "X_train, X_test, y_train, y_test = train_test_split(X, y, test_size = 0.2, random_state = 1)"
   ]
  },
  {
   "cell_type": "code",
   "execution_count": 408,
   "metadata": {},
   "outputs": [
    {
     "data": {
      "text/plain": [
       "(11096, 3)"
      ]
     },
     "execution_count": 408,
     "metadata": {},
     "output_type": "execute_result"
    }
   ],
   "source": [
    "X_train.shape"
   ]
  },
  {
   "cell_type": "code",
   "execution_count": 409,
   "metadata": {},
   "outputs": [
    {
     "name": "stdout",
     "output_type": "stream",
     "text": [
      "X training data shape (11096, 3)\n",
      "X testing data shape (2775, 3)\n"
     ]
    }
   ],
   "source": [
    "#Examining the size of the training and testing datasets.\n",
    "print('X training data shape', X_train.shape)\n",
    "print('X testing data shape', X_test.shape)"
   ]
  },
  {
   "cell_type": "code",
   "execution_count": 410,
   "metadata": {},
   "outputs": [
    {
     "name": "stdout",
     "output_type": "stream",
     "text": [
      "y training data shape (11096,)\n",
      "y testing data shape (2775,)\n"
     ]
    }
   ],
   "source": [
    "# Showing column of label data\n",
    "print('y training data shape', y_train.shape)\n",
    "print('y testing data shape', y_test.shape)"
   ]
  },
  {
   "cell_type": "code",
   "execution_count": 411,
   "metadata": {},
   "outputs": [
    {
     "data": {
      "text/plain": [
       "2195      Neutral\n",
       "6268      Neutral\n",
       "8799     Negative\n",
       "12454    Positive\n",
       "13455    Negative\n",
       "           ...   \n",
       "905      Negative\n",
       "5192     Negative\n",
       "12172    Negative\n",
       "235      Negative\n",
       "13349    Negative\n",
       "Name: sentiment, Length: 11096, dtype: object"
      ]
     },
     "execution_count": 411,
     "metadata": {},
     "output_type": "execute_result"
    }
   ],
   "source": [
    "y_train"
   ]
  },
  {
   "cell_type": "code",
   "execution_count": 412,
   "metadata": {},
   "outputs": [
    {
     "name": "stdout",
     "output_type": "stream",
     "text": [
      "       text_Float  subject_matter_Float  retweet_count\n",
      "3589         1251                     9              0\n",
      "3660          955                     9              1\n",
      "9068         5002                     9             66\n",
      "9153         6126                     2            142\n",
      "11875         234                     9              0\n",
      "...           ...                   ...            ...\n",
      "231          6637                     3              9\n",
      "3132         7748                     9              1\n",
      "3499          712                     9              1\n",
      "13495        7597                     9              2\n",
      "7593         7566                     9             26\n",
      "\n",
      "[2775 rows x 3 columns]\n"
     ]
    }
   ],
   "source": [
    "print(X_test)"
   ]
  },
  {
   "cell_type": "code",
   "execution_count": 413,
   "metadata": {},
   "outputs": [
    {
     "data": {
      "text/html": [
       "<div>\n",
       "<style scoped>\n",
       "    .dataframe tbody tr th:only-of-type {\n",
       "        vertical-align: middle;\n",
       "    }\n",
       "\n",
       "    .dataframe tbody tr th {\n",
       "        vertical-align: top;\n",
       "    }\n",
       "\n",
       "    .dataframe thead th {\n",
       "        text-align: right;\n",
       "    }\n",
       "</style>\n",
       "<table border=\"1\" class=\"dataframe\">\n",
       "  <thead>\n",
       "    <tr style=\"text-align: right;\">\n",
       "      <th></th>\n",
       "      <th>text_Float</th>\n",
       "      <th>subject_matter_Float</th>\n",
       "      <th>retweet_count</th>\n",
       "    </tr>\n",
       "  </thead>\n",
       "  <tbody>\n",
       "    <tr>\n",
       "      <th>2195</th>\n",
       "      <td>2917</td>\n",
       "      <td>9</td>\n",
       "      <td>38</td>\n",
       "    </tr>\n",
       "    <tr>\n",
       "      <th>6268</th>\n",
       "      <td>7890</td>\n",
       "      <td>9</td>\n",
       "      <td>137</td>\n",
       "    </tr>\n",
       "    <tr>\n",
       "      <th>8799</th>\n",
       "      <td>6111</td>\n",
       "      <td>2</td>\n",
       "      <td>64</td>\n",
       "    </tr>\n",
       "    <tr>\n",
       "      <th>12454</th>\n",
       "      <td>6122</td>\n",
       "      <td>2</td>\n",
       "      <td>71</td>\n",
       "    </tr>\n",
       "    <tr>\n",
       "      <th>13455</th>\n",
       "      <td>7742</td>\n",
       "      <td>9</td>\n",
       "      <td>9</td>\n",
       "    </tr>\n",
       "    <tr>\n",
       "      <th>...</th>\n",
       "      <td>...</td>\n",
       "      <td>...</td>\n",
       "      <td>...</td>\n",
       "    </tr>\n",
       "    <tr>\n",
       "      <th>905</th>\n",
       "      <td>3934</td>\n",
       "      <td>9</td>\n",
       "      <td>0</td>\n",
       "    </tr>\n",
       "    <tr>\n",
       "      <th>5192</th>\n",
       "      <td>9213</td>\n",
       "      <td>11</td>\n",
       "      <td>0</td>\n",
       "    </tr>\n",
       "    <tr>\n",
       "      <th>12172</th>\n",
       "      <td>576</td>\n",
       "      <td>9</td>\n",
       "      <td>0</td>\n",
       "    </tr>\n",
       "    <tr>\n",
       "      <th>235</th>\n",
       "      <td>1091</td>\n",
       "      <td>2</td>\n",
       "      <td>0</td>\n",
       "    </tr>\n",
       "    <tr>\n",
       "      <th>13349</th>\n",
       "      <td>9754</td>\n",
       "      <td>7</td>\n",
       "      <td>1</td>\n",
       "    </tr>\n",
       "  </tbody>\n",
       "</table>\n",
       "<p>11096 rows × 3 columns</p>\n",
       "</div>"
      ],
      "text/plain": [
       "       text_Float  subject_matter_Float  retweet_count\n",
       "2195         2917                     9             38\n",
       "6268         7890                     9            137\n",
       "8799         6111                     2             64\n",
       "12454        6122                     2             71\n",
       "13455        7742                     9              9\n",
       "...           ...                   ...            ...\n",
       "905          3934                     9              0\n",
       "5192         9213                    11              0\n",
       "12172         576                     9              0\n",
       "235          1091                     2              0\n",
       "13349        9754                     7              1\n",
       "\n",
       "[11096 rows x 3 columns]"
      ]
     },
     "execution_count": 413,
     "metadata": {},
     "output_type": "execute_result"
    }
   ],
   "source": [
    "X_train"
   ]
  },
  {
   "cell_type": "code",
   "execution_count": 414,
   "metadata": {},
   "outputs": [
    {
     "name": "stderr",
     "output_type": "stream",
     "text": [
      "C:\\Users\\suchi\\Anaconda3\\envs\\AI2_course\\lib\\site-packages\\sklearn\\linear_model\\_logistic.py:764: ConvergenceWarning: lbfgs failed to converge (status=1):\n",
      "STOP: TOTAL NO. of ITERATIONS REACHED LIMIT.\n",
      "\n",
      "Increase the number of iterations (max_iter) or scale the data as shown in:\n",
      "    https://scikit-learn.org/stable/modules/preprocessing.html\n",
      "Please also refer to the documentation for alternative solver options:\n",
      "    https://scikit-learn.org/stable/modules/linear_model.html#logistic-regression\n",
      "  extra_warning_msg=_LOGISTIC_SOLVER_CONVERGENCE_MSG)\n"
     ]
    },
    {
     "data": {
      "text/plain": [
       "LogisticRegression()"
      ]
     },
     "execution_count": 414,
     "metadata": {},
     "output_type": "execute_result"
    }
   ],
   "source": [
    "#import LogisticRegression from sklearn\n",
    "from sklearn.linear_model import LogisticRegression\n",
    "#We build the model with the L-BFGS option.\n",
    "#Once the model is built, the training data is then provided to the model.\n",
    "\n",
    "\n",
    "log_reg_model = LogisticRegression(solver = \"lbfgs\")\n",
    "\n",
    "log_reg_model.fit(X_train, y_train)"
   ]
  },
  {
   "cell_type": "code",
   "execution_count": 415,
   "metadata": {},
   "outputs": [],
   "source": [
    "#We test the accuracy of the model using the test data.\n",
    "#We import the sklearn.metrics module which includes score functions, performance metrics and pairwise metrics and distance computations. \n",
    "#We create a predictions set with some test data. This is unseen data\n",
    "\n",
    "from sklearn import metrics\n",
    "\n",
    "# Creating a prediction set here\n",
    "# Unseen contents of X_test\n",
    "log_regression_model_predictions = log_reg_model.predict(X_test)"
   ]
  },
  {
   "cell_type": "code",
   "execution_count": 416,
   "metadata": {},
   "outputs": [
    {
     "data": {
      "text/plain": [
       "array(['Negative', 'Negative', 'Negative', ..., 'Negative', 'Negative',\n",
       "       'Negative'], dtype=object)"
      ]
     },
     "execution_count": 416,
     "metadata": {},
     "output_type": "execute_result"
    }
   ],
   "source": [
    "# This is the predicted output from the model\n",
    "log_regression_model_predictions"
   ]
  },
  {
   "cell_type": "code",
   "execution_count": 417,
   "metadata": {},
   "outputs": [
    {
     "name": "stdout",
     "output_type": "stream",
     "text": [
      "[[1714    5    0]\n",
      " [ 618    2    0]\n",
      " [ 436    0    0]]\n"
     ]
    }
   ],
   "source": [
    "# Now we compare what the model predicted \n",
    "# with what is expected as output\n",
    "# Printing a confusion matrix\n",
    "print(metrics.confusion_matrix(y_test,log_regression_model_predictions))\n"
   ]
  },
  {
   "cell_type": "code",
   "execution_count": 418,
   "metadata": {},
   "outputs": [
    {
     "name": "stdout",
     "output_type": "stream",
     "text": [
      "              precision    recall  f1-score   support\n",
      "\n",
      "    Negative       0.62      1.00      0.76      1719\n",
      "     Neutral       0.29      0.00      0.01       620\n",
      "    Positive       0.00      0.00      0.00       436\n",
      "\n",
      "    accuracy                           0.62      2775\n",
      "   macro avg       0.30      0.33      0.26      2775\n",
      "weighted avg       0.45      0.62      0.47      2775\n",
      "\n"
     ]
    },
    {
     "name": "stderr",
     "output_type": "stream",
     "text": [
      "C:\\Users\\suchi\\Anaconda3\\envs\\AI2_course\\lib\\site-packages\\sklearn\\metrics\\_classification.py:1221: UndefinedMetricWarning: Precision and F-score are ill-defined and being set to 0.0 in labels with no predicted samples. Use `zero_division` parameter to control this behavior.\n",
      "  _warn_prf(average, modifier, msg_start, len(result))\n"
     ]
    }
   ],
   "source": [
    "# Printing a classification report\n",
    "print(metrics.classification_report(y_test,log_regression_model_predictions))"
   ]
  },
  {
   "cell_type": "code",
   "execution_count": 419,
   "metadata": {},
   "outputs": [
    {
     "name": "stdout",
     "output_type": "stream",
     "text": [
      "0.6183783783783784\n"
     ]
    }
   ],
   "source": [
    "# Printing the overall accuracy\n",
    "print(metrics.accuracy_score(y_test,log_regression_model_predictions))"
   ]
  },
  {
   "cell_type": "code",
   "execution_count": 420,
   "metadata": {},
   "outputs": [
    {
     "data": {
      "text/plain": [
       "MultinomialNB()"
      ]
     },
     "execution_count": 420,
     "metadata": {},
     "output_type": "execute_result"
    }
   ],
   "source": [
    "# Import  MultinomialNB from sklearn\n",
    "from sklearn.naive_bayes import MultinomialNB\n",
    "\n",
    "# An instance of the model is created\n",
    "Mnb_model = MultinomialNB()\n",
    "\n",
    "# Fitting model to the training data\n",
    "Mnb_model.fit(X_train, y_train)"
   ]
  },
  {
   "cell_type": "code",
   "execution_count": 421,
   "metadata": {},
   "outputs": [
    {
     "name": "stdout",
     "output_type": "stream",
     "text": [
      "[[ 454 1265    0]\n",
      " [ 128  492    0]\n",
      " [ 126  310    0]]\n"
     ]
    }
   ],
   "source": [
    "# Predict answers to data from the X_text dataset and show results in a confusion matrix\n",
    "Mnb_model_predictions = Mnb_model.predict(X_test)\n",
    "\n",
    "print(metrics.confusion_matrix(y_test,Mnb_model_predictions))"
   ]
  },
  {
   "cell_type": "code",
   "execution_count": 422,
   "metadata": {},
   "outputs": [
    {
     "name": "stdout",
     "output_type": "stream",
     "text": [
      "              precision    recall  f1-score   support\n",
      "\n",
      "    Negative       0.64      0.26      0.37      1719\n",
      "     Neutral       0.24      0.79      0.37       620\n",
      "    Positive       0.00      0.00      0.00       436\n",
      "\n",
      "    accuracy                           0.34      2775\n",
      "   macro avg       0.29      0.35      0.25      2775\n",
      "weighted avg       0.45      0.34      0.31      2775\n",
      "\n"
     ]
    },
    {
     "name": "stderr",
     "output_type": "stream",
     "text": [
      "C:\\Users\\suchi\\Anaconda3\\envs\\AI2_course\\lib\\site-packages\\sklearn\\metrics\\_classification.py:1221: UndefinedMetricWarning: Precision and F-score are ill-defined and being set to 0.0 in labels with no predicted samples. Use `zero_division` parameter to control this behavior.\n",
      "  _warn_prf(average, modifier, msg_start, len(result))\n"
     ]
    }
   ],
   "source": [
    "#printing the classification report and the accuracy\n",
    "print(metrics.classification_report(y_test,Mnb_model_predictions))\n"
   ]
  },
  {
   "cell_type": "code",
   "execution_count": 423,
   "metadata": {},
   "outputs": [
    {
     "name": "stdout",
     "output_type": "stream",
     "text": [
      "0.3409009009009009\n"
     ]
    }
   ],
   "source": [
    "print(metrics.accuracy_score(y_test,Mnb_model_predictions))"
   ]
  },
  {
   "cell_type": "code",
   "execution_count": 424,
   "metadata": {},
   "outputs": [
    {
     "data": {
      "text/plain": [
       "RandomForestClassifier()"
      ]
     },
     "execution_count": 424,
     "metadata": {},
     "output_type": "execute_result"
    }
   ],
   "source": [
    "# Import RandomForestClassifier from sklearn\n",
    "from sklearn.ensemble import RandomForestClassifier\n",
    "\n",
    "# An instance of the RF model is created\n",
    "RF_model = RandomForestClassifier()\n",
    "\n",
    "# Fitting the model to the training data\n",
    "RF_model.fit(X_train, y_train)"
   ]
  },
  {
   "cell_type": "code",
   "execution_count": 425,
   "metadata": {},
   "outputs": [
    {
     "name": "stdout",
     "output_type": "stream",
     "text": [
      "[[1222  319  178]\n",
      " [ 356  175   89]\n",
      " [ 198   84  154]]\n"
     ]
    }
   ],
   "source": [
    "# Predict answers to data from the X_text dataset and show results in a confusion matrix\n",
    "RF_model_predictions = RF_model.predict(X_test)\n",
    "\n",
    "print(metrics.confusion_matrix(y_test,RF_model_predictions))"
   ]
  },
  {
   "cell_type": "code",
   "execution_count": 426,
   "metadata": {},
   "outputs": [
    {
     "name": "stdout",
     "output_type": "stream",
     "text": [
      "              precision    recall  f1-score   support\n",
      "\n",
      "    Negative       0.69      0.71      0.70      1719\n",
      "     Neutral       0.30      0.28      0.29       620\n",
      "    Positive       0.37      0.35      0.36       436\n",
      "\n",
      "    accuracy                           0.56      2775\n",
      "   macro avg       0.45      0.45      0.45      2775\n",
      "weighted avg       0.55      0.56      0.55      2775\n",
      "\n"
     ]
    }
   ],
   "source": [
    "#Printing the classification report and accuracy\n",
    "print(metrics.classification_report(y_test,RF_model_predictions))\n"
   ]
  },
  {
   "cell_type": "code",
   "execution_count": 427,
   "metadata": {},
   "outputs": [
    {
     "name": "stdout",
     "output_type": "stream",
     "text": [
      "0.5589189189189189\n"
     ]
    }
   ],
   "source": [
    "print(metrics.accuracy_score(y_test,RF_model_predictions))\n"
   ]
  },
  {
   "cell_type": "code",
   "execution_count": 428,
   "metadata": {},
   "outputs": [
    {
     "name": "stdout",
     "output_type": "stream",
     "text": [
      "[[1587   99   33]\n",
      " [ 506   87   27]\n",
      " [ 299   33  104]]\n"
     ]
    }
   ],
   "source": [
    "# Importing a Support Vector Classification model (SVC)\n",
    "from sklearn.svm import SVC\n",
    "\n",
    "# The gamma value is set to \"auto\" to avoid returning error. We fit the SVC model on our data. The confusion matrix is printed.\n",
    "SVCmodel = SVC(gamma=\"auto\")\n",
    "SVCmodel.fit(X_train, y_train)\n",
    "\n",
    "SVCmodel_predictions = SVCmodel.predict(X_test)\n",
    "\n",
    "print(metrics.confusion_matrix(y_test, SVCmodel_predictions))"
   ]
  },
  {
   "cell_type": "code",
   "execution_count": 429,
   "metadata": {},
   "outputs": [
    {
     "name": "stdout",
     "output_type": "stream",
     "text": [
      "              precision    recall  f1-score   support\n",
      "\n",
      "    Negative       0.66      0.92      0.77      1719\n",
      "     Neutral       0.40      0.14      0.21       620\n",
      "    Positive       0.63      0.24      0.35       436\n",
      "\n",
      "    accuracy                           0.64      2775\n",
      "   macro avg       0.56      0.43      0.44      2775\n",
      "weighted avg       0.60      0.64      0.58      2775\n",
      "\n"
     ]
    }
   ],
   "source": [
    "#Printing the classification report and accuracy\n",
    "print(metrics.classification_report(y_test,SVCmodel_predictions))\n"
   ]
  },
  {
   "cell_type": "code",
   "execution_count": 430,
   "metadata": {},
   "outputs": [
    {
     "name": "stdout",
     "output_type": "stream",
     "text": [
      "0.6407207207207207\n"
     ]
    }
   ],
   "source": [
    "print(metrics.accuracy_score(y_test,SVCmodel_predictions))\n"
   ]
  },
  {
   "cell_type": "markdown",
   "metadata": {},
   "source": [
    "Reference:\n",
    "    Dr. James Connolly's Supervised learning practical notes from AI2."
   ]
  }
 ],
 "metadata": {
  "kernelspec": {
   "display_name": "Python 3",
   "language": "python",
   "name": "python3"
  },
  "language_info": {
   "codemirror_mode": {
    "name": "ipython",
    "version": 3
   },
   "file_extension": ".py",
   "mimetype": "text/x-python",
   "name": "python",
   "nbconvert_exporter": "python",
   "pygments_lexer": "ipython3",
   "version": "3.7.6"
  }
 },
 "nbformat": 4,
 "nbformat_minor": 4
}
