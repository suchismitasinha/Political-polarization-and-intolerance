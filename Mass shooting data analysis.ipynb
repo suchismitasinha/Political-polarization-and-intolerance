{
 "cells": [
  {
   "cell_type": "markdown",
   "metadata": {},
   "source": [
    "To accurately predict the pre-existence of mental health disorders, we performed this data analysis."
   ]
  },
  {
   "cell_type": "code",
   "execution_count": 1,
   "metadata": {},
   "outputs": [],
   "source": [
    "#Importing the necessary libraries here\n",
    "import os\n",
    "import pandas as pd\n",
    "import numpy as np\n",
    "from pprint import pprint\n",
    "\n",
    "%matplotlib inline"
   ]
  },
  {
   "cell_type": "code",
   "execution_count": 2,
   "metadata": {},
   "outputs": [],
   "source": [
    "#Loading the 'Mother-Jones-Mass-Shootings-Database-1982-2019-xlsx.csv' dataset into a dataframe\n",
    "DATAFRAME = pd.read_csv('Mother-Jones-Mass-Shootings-Database-1982-2019-xlsx.csv' , encoding = \"utf8\")"
   ]
  },
  {
   "cell_type": "code",
   "execution_count": 3,
   "metadata": {},
   "outputs": [
    {
     "data": {
      "text/plain": [
       "Index(['case', 'location', 'date', 'summary', 'fatalities', 'injured',\n",
       "       'total_victims', 'location2', 'age_of_shooter',\n",
       "       'prior_signs_mental_health_issues', 'mental_health_details',\n",
       "       'weapons_obtained_legally', 'where_obtained', 'weapon_type',\n",
       "       'weapon_details', 'race', 'gender', 'sources', 'mental_health_sources',\n",
       "       'sources_additional_age', 'latitude', 'longitude', 'type', 'year'],\n",
       "      dtype='object')"
      ]
     },
     "execution_count": 3,
     "metadata": {},
     "output_type": "execute_result"
    }
   ],
   "source": [
    "#Exploring the columns\n",
    "DATAFRAME.columns"
   ]
  },
  {
   "cell_type": "code",
   "execution_count": 4,
   "metadata": {},
   "outputs": [
    {
     "data": {
      "text/html": [
       "<div>\n",
       "<style scoped>\n",
       "    .dataframe tbody tr th:only-of-type {\n",
       "        vertical-align: middle;\n",
       "    }\n",
       "\n",
       "    .dataframe tbody tr th {\n",
       "        vertical-align: top;\n",
       "    }\n",
       "\n",
       "    .dataframe thead th {\n",
       "        text-align: right;\n",
       "    }\n",
       "</style>\n",
       "<table border=\"1\" class=\"dataframe\">\n",
       "  <thead>\n",
       "    <tr style=\"text-align: right;\">\n",
       "      <th></th>\n",
       "      <th>case</th>\n",
       "      <th>fatalities</th>\n",
       "      <th>injured</th>\n",
       "      <th>total_victims</th>\n",
       "      <th>prior_signs_mental_health_issues</th>\n",
       "      <th>gender</th>\n",
       "      <th>type</th>\n",
       "      <th>year</th>\n",
       "    </tr>\n",
       "  </thead>\n",
       "  <tbody>\n",
       "    <tr>\n",
       "      <th>0</th>\n",
       "      <td>Molson Coors shooting</td>\n",
       "      <td>5</td>\n",
       "      <td>0</td>\n",
       "      <td>5</td>\n",
       "      <td>0</td>\n",
       "      <td>M</td>\n",
       "      <td>Mass</td>\n",
       "      <td>2020</td>\n",
       "    </tr>\n",
       "    <tr>\n",
       "      <th>1</th>\n",
       "      <td>Jersey City kosher market shooting</td>\n",
       "      <td>4</td>\n",
       "      <td>3</td>\n",
       "      <td>7</td>\n",
       "      <td>0</td>\n",
       "      <td>0</td>\n",
       "      <td>Spree</td>\n",
       "      <td>2019</td>\n",
       "    </tr>\n",
       "    <tr>\n",
       "      <th>2</th>\n",
       "      <td>Pensacola Naval base shooting</td>\n",
       "      <td>3</td>\n",
       "      <td>8</td>\n",
       "      <td>11</td>\n",
       "      <td>0</td>\n",
       "      <td>M</td>\n",
       "      <td>Mass</td>\n",
       "      <td>2019</td>\n",
       "    </tr>\n",
       "    <tr>\n",
       "      <th>3</th>\n",
       "      <td>Odessa-Midland shooting spree</td>\n",
       "      <td>7</td>\n",
       "      <td>25</td>\n",
       "      <td>32</td>\n",
       "      <td>Yes</td>\n",
       "      <td>M</td>\n",
       "      <td>Spree</td>\n",
       "      <td>2019</td>\n",
       "    </tr>\n",
       "    <tr>\n",
       "      <th>4</th>\n",
       "      <td>Dayton entertainment district shooting</td>\n",
       "      <td>9</td>\n",
       "      <td>27</td>\n",
       "      <td>36</td>\n",
       "      <td>0</td>\n",
       "      <td>M</td>\n",
       "      <td>Mass</td>\n",
       "      <td>2019</td>\n",
       "    </tr>\n",
       "    <tr>\n",
       "      <th>...</th>\n",
       "      <td>...</td>\n",
       "      <td>...</td>\n",
       "      <td>...</td>\n",
       "      <td>...</td>\n",
       "      <td>...</td>\n",
       "      <td>...</td>\n",
       "      <td>...</td>\n",
       "      <td>...</td>\n",
       "    </tr>\n",
       "    <tr>\n",
       "      <th>113</th>\n",
       "      <td>Shopping centers spree killings</td>\n",
       "      <td>6</td>\n",
       "      <td>14</td>\n",
       "      <td>20</td>\n",
       "      <td>Yes</td>\n",
       "      <td>Male</td>\n",
       "      <td>Spree</td>\n",
       "      <td>1987</td>\n",
       "    </tr>\n",
       "    <tr>\n",
       "      <th>114</th>\n",
       "      <td>United States Postal Service shooting</td>\n",
       "      <td>15</td>\n",
       "      <td>6</td>\n",
       "      <td>21</td>\n",
       "      <td>Unclear</td>\n",
       "      <td>Male</td>\n",
       "      <td>Mass</td>\n",
       "      <td>1986</td>\n",
       "    </tr>\n",
       "    <tr>\n",
       "      <th>115</th>\n",
       "      <td>San Ysidro McDonald's massacre</td>\n",
       "      <td>22</td>\n",
       "      <td>19</td>\n",
       "      <td>41</td>\n",
       "      <td>Yes</td>\n",
       "      <td>Male</td>\n",
       "      <td>Mass</td>\n",
       "      <td>1984</td>\n",
       "    </tr>\n",
       "    <tr>\n",
       "      <th>116</th>\n",
       "      <td>Dallas nightclub shooting</td>\n",
       "      <td>6</td>\n",
       "      <td>1</td>\n",
       "      <td>7</td>\n",
       "      <td>Yes</td>\n",
       "      <td>Male</td>\n",
       "      <td>Mass</td>\n",
       "      <td>1984</td>\n",
       "    </tr>\n",
       "    <tr>\n",
       "      <th>117</th>\n",
       "      <td>Welding shop shooting</td>\n",
       "      <td>8</td>\n",
       "      <td>3</td>\n",
       "      <td>11</td>\n",
       "      <td>Yes</td>\n",
       "      <td>Male</td>\n",
       "      <td>Mass</td>\n",
       "      <td>1982</td>\n",
       "    </tr>\n",
       "  </tbody>\n",
       "</table>\n",
       "<p>118 rows × 8 columns</p>\n",
       "</div>"
      ],
      "text/plain": [
       "                                       case  fatalities  injured  \\\n",
       "0                     Molson Coors shooting           5        0   \n",
       "1        Jersey City kosher market shooting           4        3   \n",
       "2             Pensacola Naval base shooting           3        8   \n",
       "3             Odessa-Midland shooting spree           7       25   \n",
       "4    Dayton entertainment district shooting           9       27   \n",
       "..                                      ...         ...      ...   \n",
       "113         Shopping centers spree killings           6       14   \n",
       "114   United States Postal Service shooting          15        6   \n",
       "115          San Ysidro McDonald's massacre          22       19   \n",
       "116               Dallas nightclub shooting           6        1   \n",
       "117                   Welding shop shooting           8        3   \n",
       "\n",
       "     total_victims prior_signs_mental_health_issues gender   type  year  \n",
       "0                5                                0      M   Mass  2020  \n",
       "1                7                                0      0  Spree  2019  \n",
       "2               11                                0      M   Mass  2019  \n",
       "3               32                              Yes      M  Spree  2019  \n",
       "4               36                                0      M   Mass  2019  \n",
       "..             ...                              ...    ...    ...   ...  \n",
       "113             20                              Yes   Male  Spree  1987  \n",
       "114             21                         Unclear    Male   Mass  1986  \n",
       "115             41                              Yes   Male   Mass  1984  \n",
       "116              7                              Yes   Male   Mass  1984  \n",
       "117             11                              Yes   Male   Mass  1982  \n",
       "\n",
       "[118 rows x 8 columns]"
      ]
     },
     "execution_count": 4,
     "metadata": {},
     "output_type": "execute_result"
    }
   ],
   "source": [
    "#Dropping the columns that are not useful to train our machine learning models\n",
    "DATAFRAME.drop(['location', 'date', 'summary', 'location2', 'age_of_shooter', \n",
    "                'mental_health_details','weapons_obtained_legally','where_obtained',\n",
    "                'weapon_type','weapon_details', 'race', 'sources', 'mental_health_sources',\n",
    "                'sources_additional_age', 'latitude', 'longitude' ], axis = 1, inplace = True)\n",
    "\n",
    "DATAFRAME"
   ]
  },
  {
   "cell_type": "code",
   "execution_count": 5,
   "metadata": {},
   "outputs": [
    {
     "name": "stdout",
     "output_type": "stream",
     "text": [
      "[0 1 0 1 0 0 0 0 0 1 0 0 0 0 0 1 0 0 0 0 0 0 0 1 0 0 0 0 0 0 0 0 0 0 0 1 0\n",
      " 0 0 0 0 0 0 0 0 0 0 0 0 0 1 0 0 0 0 0 0 0 0 1 0 0 0 0 0 0 0 0 0 0 0 1 0 0\n",
      " 1 0 0 0 0 0 0 0 1 0 0 0 0 1 1 0 0 0 0 0 0 1 0 1 0 0 0 1 0 0 0 0 0 1 0 0 0\n",
      " 0 0 1 0 0 0 0]\n"
     ]
    }
   ],
   "source": [
    "# Importing the LabelEncoder\n",
    "from sklearn import preprocessing\n",
    "from sklearn.naive_bayes import GaussianNB\n",
    "#Creating labelEncoder\n",
    "labelEncoder = preprocessing.LabelEncoder();\n",
    "print (labelEncoder.fit_transform(DATAFRAME['type']))\n",
    "    "
   ]
  },
  {
   "cell_type": "code",
   "execution_count": 6,
   "metadata": {},
   "outputs": [
    {
     "name": "stdout",
     "output_type": "stream",
     "text": [
      "[3 0 3 3 3 3 3 3 3 3 3 3 3 3 1 3 3 3 3 3 3 3 3 3 3 3 3 3 3 3 3 3 3 3 3 3 3\n",
      " 3 3 3 5 3 3 4 4 4 3 4 3 3 2 4 4 4 4 4 4 4 4 4 4 4 4 4 4 4 4 4 4 4 4 4 4 4\n",
      " 4 4 4 4 4 4 2 4 4 4 4 4 4 4 4 4 4 4 4 4 4 4 4 4 4 4 4 4 4 4 4 4 4 4 4 4 4\n",
      " 4 4 4 4 4 4 4]\n"
     ]
    }
   ],
   "source": [
    "#Label Encoding 'gender' column\n",
    "print(labelEncoder.fit_transform(DATAFRAME['gender']))"
   ]
  },
  {
   "cell_type": "code",
   "execution_count": 7,
   "metadata": {},
   "outputs": [
    {
     "name": "stdout",
     "output_type": "stream",
     "text": [
      "[0 0 0 6 0 0 2 2 6 0 6 0 6 0 0 0 6 0 0 6 6 6 2 2 6 3 3 2 6 3 3 6 3 6 6 6 3\n",
      " 3 3 3 3 3 3 3 3 3 6 3 6 3 5 6 3 6 1 1 6 6 6 6 6 6 6 6 6 6 1 6 3 6 6 1 6 1\n",
      " 6 3 6 3 1 1 6 6 6 6 6 1 6 6 6 6 6 6 6 1 6 1 1 6 1 6 3 6 1 1 6 1 6 3 1 1 6\n",
      " 6 6 6 4 6 6 6]\n"
     ]
    }
   ],
   "source": [
    "#Label Encoding 'prior_signs_mental_health_issues' column\n",
    "print(labelEncoder.fit_transform(DATAFRAME['prior_signs_mental_health_issues']))"
   ]
  },
  {
   "cell_type": "code",
   "execution_count": 8,
   "metadata": {},
   "outputs": [
    {
     "name": "stdout",
     "output_type": "stream",
     "text": [
      "[ 2  4  8 25 28 33 12 13  8  1  2  0 26 14  3  2  2  4 20  5  0 26  2 12\n",
      " 32  0  3 37  2  0  2  0  0  8  2  3 13 36 14  5 27  9  0 15  4  7  1  3\n",
      " 16 12  3 17  4  6  2  4 24  5  7 35  4  7  2  6  9 16  8  2 31 15  8  4\n",
      " 22  5 10  4 34  7  8  6  5 12  8  9 12  6  4  5  4 12 19 29 24 12  3  4\n",
      "  4  4  3 23  2 21  9 12  2 11  7  4 31 11 18 27  8 17 18 30  4  8]\n"
     ]
    }
   ],
   "source": [
    "#Label Encoding 'total_victims' column\n",
    "print(labelEncoder.fit_transform(DATAFRAME['total_victims']))"
   ]
  },
  {
   "cell_type": "code",
   "execution_count": 9,
   "metadata": {},
   "outputs": [],
   "source": [
    "#Naming the label encoder\n",
    "labelEncoder = preprocessing.LabelEncoder()\n",
    "    \n",
    "# Encoding the features and the labels\n",
    "type_encoded = labelEncoder.fit_transform(DATAFRAME['type'])\n",
    "gender_encoded = labelEncoder.fit_transform(DATAFRAME['gender'])\n",
    "victims_encoded = labelEncoder.fit_transform(DATAFRAME['total_victims'])\n",
    "label = labelEncoder.fit_transform(DATAFRAME['prior_signs_mental_health_issues'])\n",
    "\n",
    "    "
   ]
  },
  {
   "cell_type": "code",
   "execution_count": 10,
   "metadata": {},
   "outputs": [
    {
     "name": "stdout",
     "output_type": "stream",
     "text": [
      "[[2, 3, 0], [4, 0, 1], [8, 3, 0], [25, 3, 1], [28, 3, 0], [33, 3, 0], [12, 3, 0], [13, 3, 0], [8, 3, 0], [1, 3, 1], [2, 3, 0], [0, 3, 0], [26, 3, 0], [14, 3, 0], [3, 1, 0], [2, 3, 1], [2, 3, 0], [4, 3, 0], [20, 3, 0], [5, 3, 0], [0, 3, 0], [26, 3, 0], [2, 3, 0], [12, 3, 1], [32, 3, 0], [0, 3, 0], [3, 3, 0], [37, 3, 0], [2, 3, 0], [0, 3, 0], [2, 3, 0], [0, 3, 0], [0, 3, 0], [8, 3, 0], [2, 3, 0], [3, 3, 1], [13, 3, 0], [36, 3, 0], [14, 3, 0], [5, 3, 0], [27, 5, 0], [9, 3, 0], [0, 3, 0], [15, 4, 0], [4, 4, 0], [7, 4, 0], [1, 3, 0], [3, 4, 0], [16, 3, 0], [12, 3, 0], [3, 2, 1], [17, 4, 0], [4, 4, 0], [6, 4, 0], [2, 4, 0], [4, 4, 0], [24, 4, 0], [5, 4, 0], [7, 4, 0], [35, 4, 1], [4, 4, 0], [7, 4, 0], [2, 4, 0], [6, 4, 0], [9, 4, 0], [16, 4, 0], [8, 4, 0], [2, 4, 0], [31, 4, 0], [15, 4, 0], [8, 4, 0], [4, 4, 1], [22, 4, 0], [5, 4, 0], [10, 4, 1], [4, 4, 0], [34, 4, 0], [7, 4, 0], [8, 4, 0], [6, 4, 0], [5, 2, 0], [12, 4, 0], [8, 4, 1], [9, 4, 0], [12, 4, 0], [6, 4, 0], [4, 4, 0], [5, 4, 1], [4, 4, 1], [12, 4, 0], [19, 4, 0], [29, 4, 0], [24, 4, 0], [12, 4, 0], [3, 4, 0], [4, 4, 1], [4, 4, 0], [4, 4, 1], [3, 4, 0], [23, 4, 0], [2, 4, 0], [21, 4, 1], [9, 4, 0], [12, 4, 0], [2, 4, 0], [11, 4, 0], [7, 4, 0], [4, 4, 1], [31, 4, 0], [11, 4, 0], [18, 4, 0], [27, 4, 0], [8, 4, 0], [17, 4, 1], [18, 4, 0], [30, 4, 0], [4, 4, 0], [8, 4, 0]]\n"
     ]
    }
   ],
   "source": [
    "# Building the features with victims_encoded, gender_encoded, and type_encoded columns\n",
    "features = []\n",
    "for i in range(len(type_encoded)):\n",
    "    features.append([victims_encoded[i], gender_encoded[i], type_encoded[i]])\n",
    "print(features)"
   ]
  },
  {
   "cell_type": "code",
   "execution_count": 11,
   "metadata": {},
   "outputs": [],
   "source": [
    "model = GaussianNB()"
   ]
  },
  {
   "cell_type": "code",
   "execution_count": 12,
   "metadata": {},
   "outputs": [
    {
     "data": {
      "text/plain": [
       "GaussianNB()"
      ]
     },
     "execution_count": 12,
     "metadata": {},
     "output_type": "execute_result"
    }
   ],
   "source": [
    "# Training the GaussianNB model\n",
    "model.fit(features, label)"
   ]
  },
  {
   "cell_type": "code",
   "execution_count": 13,
   "metadata": {},
   "outputs": [
    {
     "name": "stdout",
     "output_type": "stream",
     "text": [
      "[0]\n"
     ]
    }
   ],
   "source": [
    "#Testing for predictions\n",
    "print(model.predict([[4, 0, 1]])) #victims #gender #type"
   ]
  },
  {
   "cell_type": "code",
   "execution_count": 14,
   "metadata": {},
   "outputs": [
    {
     "name": "stdout",
     "output_type": "stream",
     "text": [
      "[2]\n"
     ]
    }
   ],
   "source": [
    "print(model.predict([[28, 3, 0]]))"
   ]
  },
  {
   "cell_type": "code",
   "execution_count": 15,
   "metadata": {},
   "outputs": [
    {
     "name": "stdout",
     "output_type": "stream",
     "text": [
      "[6]\n"
     ]
    }
   ],
   "source": [
    "print(model.predict([[35, 4, 1]]))"
   ]
  },
  {
   "cell_type": "code",
   "execution_count": 16,
   "metadata": {},
   "outputs": [
    {
     "name": "stdout",
     "output_type": "stream",
     "text": [
      "[2]\n"
     ]
    }
   ],
   "source": [
    "print(model.predict([[2, 3, 1]]))"
   ]
  },
  {
   "cell_type": "code",
   "execution_count": 17,
   "metadata": {},
   "outputs": [
    {
     "data": {
      "text/html": [
       "<div>\n",
       "<style scoped>\n",
       "    .dataframe tbody tr th:only-of-type {\n",
       "        vertical-align: middle;\n",
       "    }\n",
       "\n",
       "    .dataframe tbody tr th {\n",
       "        vertical-align: top;\n",
       "    }\n",
       "\n",
       "    .dataframe thead th {\n",
       "        text-align: right;\n",
       "    }\n",
       "</style>\n",
       "<table border=\"1\" class=\"dataframe\">\n",
       "  <thead>\n",
       "    <tr style=\"text-align: right;\">\n",
       "      <th></th>\n",
       "      <th>case</th>\n",
       "      <th>fatalities</th>\n",
       "      <th>injured</th>\n",
       "      <th>total_victims</th>\n",
       "      <th>prior_signs_mental_health_issues</th>\n",
       "      <th>gender</th>\n",
       "      <th>type</th>\n",
       "      <th>year</th>\n",
       "      <th>type_encoded</th>\n",
       "      <th>gender_encoded</th>\n",
       "      <th>victims_encoded</th>\n",
       "      <th>label</th>\n",
       "    </tr>\n",
       "  </thead>\n",
       "  <tbody>\n",
       "    <tr>\n",
       "      <th>0</th>\n",
       "      <td>Molson Coors shooting</td>\n",
       "      <td>5</td>\n",
       "      <td>0</td>\n",
       "      <td>5</td>\n",
       "      <td>0</td>\n",
       "      <td>M</td>\n",
       "      <td>Mass</td>\n",
       "      <td>2020</td>\n",
       "      <td>0</td>\n",
       "      <td>3</td>\n",
       "      <td>2</td>\n",
       "      <td>0</td>\n",
       "    </tr>\n",
       "    <tr>\n",
       "      <th>1</th>\n",
       "      <td>Jersey City kosher market shooting</td>\n",
       "      <td>4</td>\n",
       "      <td>3</td>\n",
       "      <td>7</td>\n",
       "      <td>0</td>\n",
       "      <td>0</td>\n",
       "      <td>Spree</td>\n",
       "      <td>2019</td>\n",
       "      <td>1</td>\n",
       "      <td>0</td>\n",
       "      <td>4</td>\n",
       "      <td>0</td>\n",
       "    </tr>\n",
       "    <tr>\n",
       "      <th>2</th>\n",
       "      <td>Pensacola Naval base shooting</td>\n",
       "      <td>3</td>\n",
       "      <td>8</td>\n",
       "      <td>11</td>\n",
       "      <td>0</td>\n",
       "      <td>M</td>\n",
       "      <td>Mass</td>\n",
       "      <td>2019</td>\n",
       "      <td>0</td>\n",
       "      <td>3</td>\n",
       "      <td>8</td>\n",
       "      <td>0</td>\n",
       "    </tr>\n",
       "    <tr>\n",
       "      <th>3</th>\n",
       "      <td>Odessa-Midland shooting spree</td>\n",
       "      <td>7</td>\n",
       "      <td>25</td>\n",
       "      <td>32</td>\n",
       "      <td>Yes</td>\n",
       "      <td>M</td>\n",
       "      <td>Spree</td>\n",
       "      <td>2019</td>\n",
       "      <td>1</td>\n",
       "      <td>3</td>\n",
       "      <td>25</td>\n",
       "      <td>6</td>\n",
       "    </tr>\n",
       "    <tr>\n",
       "      <th>4</th>\n",
       "      <td>Dayton entertainment district shooting</td>\n",
       "      <td>9</td>\n",
       "      <td>27</td>\n",
       "      <td>36</td>\n",
       "      <td>0</td>\n",
       "      <td>M</td>\n",
       "      <td>Mass</td>\n",
       "      <td>2019</td>\n",
       "      <td>0</td>\n",
       "      <td>3</td>\n",
       "      <td>28</td>\n",
       "      <td>0</td>\n",
       "    </tr>\n",
       "    <tr>\n",
       "      <th>...</th>\n",
       "      <td>...</td>\n",
       "      <td>...</td>\n",
       "      <td>...</td>\n",
       "      <td>...</td>\n",
       "      <td>...</td>\n",
       "      <td>...</td>\n",
       "      <td>...</td>\n",
       "      <td>...</td>\n",
       "      <td>...</td>\n",
       "      <td>...</td>\n",
       "      <td>...</td>\n",
       "      <td>...</td>\n",
       "    </tr>\n",
       "    <tr>\n",
       "      <th>113</th>\n",
       "      <td>Shopping centers spree killings</td>\n",
       "      <td>6</td>\n",
       "      <td>14</td>\n",
       "      <td>20</td>\n",
       "      <td>Yes</td>\n",
       "      <td>Male</td>\n",
       "      <td>Spree</td>\n",
       "      <td>1987</td>\n",
       "      <td>1</td>\n",
       "      <td>4</td>\n",
       "      <td>17</td>\n",
       "      <td>6</td>\n",
       "    </tr>\n",
       "    <tr>\n",
       "      <th>114</th>\n",
       "      <td>United States Postal Service shooting</td>\n",
       "      <td>15</td>\n",
       "      <td>6</td>\n",
       "      <td>21</td>\n",
       "      <td>Unclear</td>\n",
       "      <td>Male</td>\n",
       "      <td>Mass</td>\n",
       "      <td>1986</td>\n",
       "      <td>0</td>\n",
       "      <td>4</td>\n",
       "      <td>18</td>\n",
       "      <td>4</td>\n",
       "    </tr>\n",
       "    <tr>\n",
       "      <th>115</th>\n",
       "      <td>San Ysidro McDonald's massacre</td>\n",
       "      <td>22</td>\n",
       "      <td>19</td>\n",
       "      <td>41</td>\n",
       "      <td>Yes</td>\n",
       "      <td>Male</td>\n",
       "      <td>Mass</td>\n",
       "      <td>1984</td>\n",
       "      <td>0</td>\n",
       "      <td>4</td>\n",
       "      <td>30</td>\n",
       "      <td>6</td>\n",
       "    </tr>\n",
       "    <tr>\n",
       "      <th>116</th>\n",
       "      <td>Dallas nightclub shooting</td>\n",
       "      <td>6</td>\n",
       "      <td>1</td>\n",
       "      <td>7</td>\n",
       "      <td>Yes</td>\n",
       "      <td>Male</td>\n",
       "      <td>Mass</td>\n",
       "      <td>1984</td>\n",
       "      <td>0</td>\n",
       "      <td>4</td>\n",
       "      <td>4</td>\n",
       "      <td>6</td>\n",
       "    </tr>\n",
       "    <tr>\n",
       "      <th>117</th>\n",
       "      <td>Welding shop shooting</td>\n",
       "      <td>8</td>\n",
       "      <td>3</td>\n",
       "      <td>11</td>\n",
       "      <td>Yes</td>\n",
       "      <td>Male</td>\n",
       "      <td>Mass</td>\n",
       "      <td>1982</td>\n",
       "      <td>0</td>\n",
       "      <td>4</td>\n",
       "      <td>8</td>\n",
       "      <td>6</td>\n",
       "    </tr>\n",
       "  </tbody>\n",
       "</table>\n",
       "<p>118 rows × 12 columns</p>\n",
       "</div>"
      ],
      "text/plain": [
       "                                       case  fatalities  injured  \\\n",
       "0                     Molson Coors shooting           5        0   \n",
       "1        Jersey City kosher market shooting           4        3   \n",
       "2             Pensacola Naval base shooting           3        8   \n",
       "3             Odessa-Midland shooting spree           7       25   \n",
       "4    Dayton entertainment district shooting           9       27   \n",
       "..                                      ...         ...      ...   \n",
       "113         Shopping centers spree killings           6       14   \n",
       "114   United States Postal Service shooting          15        6   \n",
       "115          San Ysidro McDonald's massacre          22       19   \n",
       "116               Dallas nightclub shooting           6        1   \n",
       "117                   Welding shop shooting           8        3   \n",
       "\n",
       "     total_victims prior_signs_mental_health_issues gender   type  year  \\\n",
       "0                5                                0      M   Mass  2020   \n",
       "1                7                                0      0  Spree  2019   \n",
       "2               11                                0      M   Mass  2019   \n",
       "3               32                              Yes      M  Spree  2019   \n",
       "4               36                                0      M   Mass  2019   \n",
       "..             ...                              ...    ...    ...   ...   \n",
       "113             20                              Yes   Male  Spree  1987   \n",
       "114             21                         Unclear    Male   Mass  1986   \n",
       "115             41                              Yes   Male   Mass  1984   \n",
       "116              7                              Yes   Male   Mass  1984   \n",
       "117             11                              Yes   Male   Mass  1982   \n",
       "\n",
       "     type_encoded  gender_encoded  victims_encoded  label  \n",
       "0               0               3                2      0  \n",
       "1               1               0                4      0  \n",
       "2               0               3                8      0  \n",
       "3               1               3               25      6  \n",
       "4               0               3               28      0  \n",
       "..            ...             ...              ...    ...  \n",
       "113             1               4               17      6  \n",
       "114             0               4               18      4  \n",
       "115             0               4               30      6  \n",
       "116             0               4                4      6  \n",
       "117             0               4                8      6  \n",
       "\n",
       "[118 rows x 12 columns]"
      ]
     },
     "execution_count": 17,
     "metadata": {},
     "output_type": "execute_result"
    }
   ],
   "source": [
    "#Because we wanted to test the performance of MultinomialNB on this dataset, \n",
    "#We load the dataset \"Mother-Jones-Mass-Shootings-Database-1982-2019-xlsx.csv\" here and convert it into a dataframe. \n",
    "df = pd.read_csv('Mother-Jones-Mass-Shootings-Database-1982-2019-xlsx.csv' , encoding = \"utf8\")\n",
    "\n",
    "\n",
    "# Importing the label encoder \n",
    "from sklearn import preprocessing \n",
    "\n",
    "# label_encoder object knows how to understand word labels. \n",
    "label_encoder = preprocessing.LabelEncoder() \n",
    "\n",
    "# Encode labels in column. \n",
    "df['type_encoded']= label_encoder.fit_transform(df['type']) \n",
    "df['gender_encoded']= label_encoder.fit_transform(df['gender']) \n",
    "df['victims_encoded'] = label_encoder.fit_transform(df['total_victims'])\n",
    "df['label'] = labelEncoder.fit_transform(df['prior_signs_mental_health_issues'])\n",
    "\n",
    "##Dropping the columns that are not useful to train our machine learning models\n",
    "df.drop(['location', 'date', 'summary', 'location2', 'age_of_shooter', \n",
    "                'mental_health_details','weapons_obtained_legally','where_obtained',\n",
    "                'weapon_type','weapon_details', 'race', 'sources', 'mental_health_sources',\n",
    "                'sources_additional_age', 'latitude', 'longitude' ], axis = 1, inplace = True)\n",
    "df\n",
    "\n"
   ]
  },
  {
   "cell_type": "code",
   "execution_count": 18,
   "metadata": {},
   "outputs": [
    {
     "data": {
      "text/html": [
       "<div>\n",
       "<style scoped>\n",
       "    .dataframe tbody tr th:only-of-type {\n",
       "        vertical-align: middle;\n",
       "    }\n",
       "\n",
       "    .dataframe tbody tr th {\n",
       "        vertical-align: top;\n",
       "    }\n",
       "\n",
       "    .dataframe thead th {\n",
       "        text-align: right;\n",
       "    }\n",
       "</style>\n",
       "<table border=\"1\" class=\"dataframe\">\n",
       "  <thead>\n",
       "    <tr style=\"text-align: right;\">\n",
       "      <th></th>\n",
       "      <th>case</th>\n",
       "      <th>fatalities</th>\n",
       "      <th>injured</th>\n",
       "      <th>total_victims</th>\n",
       "      <th>prior_signs_mental_health_issues</th>\n",
       "      <th>gender</th>\n",
       "      <th>type</th>\n",
       "      <th>year</th>\n",
       "      <th>type_encoded</th>\n",
       "      <th>gender_encoded</th>\n",
       "      <th>victims_encoded</th>\n",
       "      <th>label</th>\n",
       "    </tr>\n",
       "  </thead>\n",
       "  <tbody>\n",
       "    <tr>\n",
       "      <th>0</th>\n",
       "      <td>Molson Coors shooting</td>\n",
       "      <td>5</td>\n",
       "      <td>0</td>\n",
       "      <td>5</td>\n",
       "      <td>0</td>\n",
       "      <td>M</td>\n",
       "      <td>Mass</td>\n",
       "      <td>2020</td>\n",
       "      <td>0</td>\n",
       "      <td>3</td>\n",
       "      <td>2</td>\n",
       "      <td>0</td>\n",
       "    </tr>\n",
       "    <tr>\n",
       "      <th>1</th>\n",
       "      <td>Jersey City kosher market shooting</td>\n",
       "      <td>4</td>\n",
       "      <td>3</td>\n",
       "      <td>7</td>\n",
       "      <td>0</td>\n",
       "      <td>0</td>\n",
       "      <td>Spree</td>\n",
       "      <td>2019</td>\n",
       "      <td>1</td>\n",
       "      <td>0</td>\n",
       "      <td>4</td>\n",
       "      <td>0</td>\n",
       "    </tr>\n",
       "    <tr>\n",
       "      <th>2</th>\n",
       "      <td>Pensacola Naval base shooting</td>\n",
       "      <td>3</td>\n",
       "      <td>8</td>\n",
       "      <td>11</td>\n",
       "      <td>0</td>\n",
       "      <td>M</td>\n",
       "      <td>Mass</td>\n",
       "      <td>2019</td>\n",
       "      <td>0</td>\n",
       "      <td>3</td>\n",
       "      <td>8</td>\n",
       "      <td>0</td>\n",
       "    </tr>\n",
       "    <tr>\n",
       "      <th>3</th>\n",
       "      <td>Odessa-Midland shooting spree</td>\n",
       "      <td>7</td>\n",
       "      <td>25</td>\n",
       "      <td>32</td>\n",
       "      <td>Yes</td>\n",
       "      <td>M</td>\n",
       "      <td>Spree</td>\n",
       "      <td>2019</td>\n",
       "      <td>1</td>\n",
       "      <td>3</td>\n",
       "      <td>25</td>\n",
       "      <td>6</td>\n",
       "    </tr>\n",
       "    <tr>\n",
       "      <th>4</th>\n",
       "      <td>Dayton entertainment district shooting</td>\n",
       "      <td>9</td>\n",
       "      <td>27</td>\n",
       "      <td>36</td>\n",
       "      <td>0</td>\n",
       "      <td>M</td>\n",
       "      <td>Mass</td>\n",
       "      <td>2019</td>\n",
       "      <td>0</td>\n",
       "      <td>3</td>\n",
       "      <td>28</td>\n",
       "      <td>0</td>\n",
       "    </tr>\n",
       "  </tbody>\n",
       "</table>\n",
       "</div>"
      ],
      "text/plain": [
       "                                     case  fatalities  injured  total_victims  \\\n",
       "0                   Molson Coors shooting           5        0              5   \n",
       "1      Jersey City kosher market shooting           4        3              7   \n",
       "2           Pensacola Naval base shooting           3        8             11   \n",
       "3           Odessa-Midland shooting spree           7       25             32   \n",
       "4  Dayton entertainment district shooting           9       27             36   \n",
       "\n",
       "  prior_signs_mental_health_issues gender   type  year  type_encoded  \\\n",
       "0                                0      M   Mass  2020             0   \n",
       "1                                0      0  Spree  2019             1   \n",
       "2                                0      M   Mass  2019             0   \n",
       "3                              Yes      M  Spree  2019             1   \n",
       "4                                0      M   Mass  2019             0   \n",
       "\n",
       "   gender_encoded  victims_encoded  label  \n",
       "0               3                2      0  \n",
       "1               0                4      0  \n",
       "2               3                8      0  \n",
       "3               3               25      6  \n",
       "4               3               28      0  "
      ]
     },
     "execution_count": 18,
     "metadata": {},
     "output_type": "execute_result"
    }
   ],
   "source": [
    "df.head()"
   ]
  },
  {
   "cell_type": "code",
   "execution_count": 19,
   "metadata": {},
   "outputs": [
    {
     "data": {
      "text/plain": [
       "case                                0\n",
       "fatalities                          0\n",
       "injured                             0\n",
       "total_victims                       0\n",
       "prior_signs_mental_health_issues    0\n",
       "gender                              0\n",
       "type                                0\n",
       "year                                0\n",
       "type_encoded                        0\n",
       "gender_encoded                      0\n",
       "victims_encoded                     0\n",
       "label                               0\n",
       "dtype: int64"
      ]
     },
     "execution_count": 19,
     "metadata": {},
     "output_type": "execute_result"
    }
   ],
   "source": [
    "#Checking for nulll values\n",
    "df.isnull().sum()"
   ]
  },
  {
   "cell_type": "code",
   "execution_count": 20,
   "metadata": {},
   "outputs": [],
   "source": [
    "#Before we instantiate our ML model, we divide the dataset into two smaller training and testing datasets.\n",
    "#We also set up our Features (X) and Labels (y) where X is 'total_victims', 'type_encoded', and 'gender_encoded'.\n",
    "#y is 'prior_signs_mental_health_issues'\n",
    "from sklearn.model_selection import train_test_split\n",
    "\n",
    "# test size represents the proportion of training and testing data split. \n",
    "X = df[['total_victims', 'type_encoded','gender_encoded']]\n",
    "y = df['prior_signs_mental_health_issues']\n",
    "\n",
    "#Random_state is set to 1 to define the \"randomness\" of data randomisation\n",
    "X_train, X_test, y_train, y_test = train_test_split(X, y, test_size = 0.20, random_state = 1)"
   ]
  },
  {
   "cell_type": "code",
   "execution_count": 21,
   "metadata": {},
   "outputs": [
    {
     "data": {
      "text/plain": [
       "MultinomialNB()"
      ]
     },
     "execution_count": 21,
     "metadata": {},
     "output_type": "execute_result"
    }
   ],
   "source": [
    "# First import  MultinomialNB from sklearn\n",
    "from sklearn.naive_bayes import MultinomialNB\n",
    "from sklearn import metrics\n",
    "\n",
    "\n",
    "# Create an instance of the model\n",
    "nb_model = MultinomialNB()\n",
    "\n",
    "# Fit model to training data\n",
    "nb_model.fit(X_train, y_train)"
   ]
  },
  {
   "cell_type": "code",
   "execution_count": 22,
   "metadata": {},
   "outputs": [
    {
     "name": "stdout",
     "output_type": "stream",
     "text": [
      "[[ 0  0  0  2]\n",
      " [ 0  0  0  4]\n",
      " [ 0  0  0  0]\n",
      " [ 0  0  1 17]]\n"
     ]
    }
   ],
   "source": [
    "# Predict answers to data from the X_text dataset\n",
    "nb_model_predictions = nb_model.predict(X_test)\n",
    "\n",
    "# Show results in a confusion matrix\n",
    "print(metrics.confusion_matrix(y_test,nb_model_predictions))"
   ]
  },
  {
   "cell_type": "code",
   "execution_count": 23,
   "metadata": {},
   "outputs": [
    {
     "name": "stdout",
     "output_type": "stream",
     "text": [
      "              precision    recall  f1-score   support\n",
      "\n",
      "           0       0.00      0.00      0.00         2\n",
      "          No       0.00      0.00      0.00         4\n",
      "         TBD       0.00      0.00      0.00         0\n",
      "         Yes       0.74      0.94      0.83        18\n",
      "\n",
      "    accuracy                           0.71        24\n",
      "   macro avg       0.18      0.24      0.21        24\n",
      "weighted avg       0.55      0.71      0.62        24\n",
      "\n"
     ]
    },
    {
     "name": "stderr",
     "output_type": "stream",
     "text": [
      "C:\\Users\\suchi\\Anaconda3\\envs\\AI2_course\\lib\\site-packages\\sklearn\\metrics\\_classification.py:1221: UndefinedMetricWarning: Precision and F-score are ill-defined and being set to 0.0 in labels with no predicted samples. Use `zero_division` parameter to control this behavior.\n",
      "  _warn_prf(average, modifier, msg_start, len(result))\n",
      "C:\\Users\\suchi\\Anaconda3\\envs\\AI2_course\\lib\\site-packages\\sklearn\\metrics\\_classification.py:1221: UndefinedMetricWarning: Recall and F-score are ill-defined and being set to 0.0 in labels with no true samples. Use `zero_division` parameter to control this behavior.\n",
      "  _warn_prf(average, modifier, msg_start, len(result))\n"
     ]
    }
   ],
   "source": [
    "print(metrics.classification_report(y_test,nb_model_predictions))\n"
   ]
  },
  {
   "cell_type": "code",
   "execution_count": 24,
   "metadata": {},
   "outputs": [
    {
     "name": "stdout",
     "output_type": "stream",
     "text": [
      "0.7083333333333334\n"
     ]
    }
   ],
   "source": [
    "print(metrics.accuracy_score(y_test,nb_model_predictions))"
   ]
  },
  {
   "cell_type": "code",
   "execution_count": 25,
   "metadata": {},
   "outputs": [],
   "source": [
    "#loading the Shooting dataset in a dataframe\n",
    "A = pd.read_csv('Shooting-csv.csv' , encoding = \"utf8\")"
   ]
  },
  {
   "cell_type": "code",
   "execution_count": 26,
   "metadata": {},
   "outputs": [
    {
     "data": {
      "text/plain": [
       "Index(['ï»¿Title', 'Location', 'Date', 'Incident Area', 'Open/Close Location',\n",
       "       'Target', 'Cause', 'Summary', 'Fatalities', 'Injured', 'Total victims',\n",
       "       'Policeman Killed', 'Age', 'Employeed (Y/N)', 'Employed at',\n",
       "       'Mental Health Issues', 'Race', 'Gender', 'Latitude', 'Longitude'],\n",
       "      dtype='object')"
      ]
     },
     "execution_count": 26,
     "metadata": {},
     "output_type": "execute_result"
    }
   ],
   "source": [
    "#Exploring the columns\n",
    "A.columns"
   ]
  },
  {
   "cell_type": "code",
   "execution_count": 27,
   "metadata": {},
   "outputs": [
    {
     "data": {
      "text/html": [
       "<div>\n",
       "<style scoped>\n",
       "    .dataframe tbody tr th:only-of-type {\n",
       "        vertical-align: middle;\n",
       "    }\n",
       "\n",
       "    .dataframe tbody tr th {\n",
       "        vertical-align: top;\n",
       "    }\n",
       "\n",
       "    .dataframe thead th {\n",
       "        text-align: right;\n",
       "    }\n",
       "</style>\n",
       "<table border=\"1\" class=\"dataframe\">\n",
       "  <thead>\n",
       "    <tr style=\"text-align: right;\">\n",
       "      <th></th>\n",
       "      <th>Target</th>\n",
       "      <th>Cause</th>\n",
       "      <th>Fatalities</th>\n",
       "      <th>Injured</th>\n",
       "      <th>Total victims</th>\n",
       "      <th>Mental Health Issues</th>\n",
       "      <th>Gender</th>\n",
       "    </tr>\n",
       "  </thead>\n",
       "  <tbody>\n",
       "    <tr>\n",
       "      <th>0</th>\n",
       "      <td>0</td>\n",
       "      <td>0</td>\n",
       "      <td>58</td>\n",
       "      <td>527</td>\n",
       "      <td>585</td>\n",
       "      <td>Unclear</td>\n",
       "      <td>M</td>\n",
       "    </tr>\n",
       "    <tr>\n",
       "      <th>1</th>\n",
       "      <td>coworkers</td>\n",
       "      <td>0</td>\n",
       "      <td>3</td>\n",
       "      <td>2</td>\n",
       "      <td>5</td>\n",
       "      <td>Yes</td>\n",
       "      <td>M</td>\n",
       "    </tr>\n",
       "    <tr>\n",
       "      <th>2</th>\n",
       "      <td>coworkers</td>\n",
       "      <td>terrorism</td>\n",
       "      <td>3</td>\n",
       "      <td>0</td>\n",
       "      <td>3</td>\n",
       "      <td>Unclear</td>\n",
       "      <td>M</td>\n",
       "    </tr>\n",
       "    <tr>\n",
       "      <th>3</th>\n",
       "      <td>coworkers</td>\n",
       "      <td>unemployement</td>\n",
       "      <td>5</td>\n",
       "      <td>0</td>\n",
       "      <td>5</td>\n",
       "      <td>Unclear</td>\n",
       "      <td>M</td>\n",
       "    </tr>\n",
       "    <tr>\n",
       "      <th>4</th>\n",
       "      <td>coworkers</td>\n",
       "      <td>0</td>\n",
       "      <td>3</td>\n",
       "      <td>0</td>\n",
       "      <td>3</td>\n",
       "      <td>Yes</td>\n",
       "      <td>M</td>\n",
       "    </tr>\n",
       "    <tr>\n",
       "      <th>...</th>\n",
       "      <td>...</td>\n",
       "      <td>...</td>\n",
       "      <td>...</td>\n",
       "      <td>...</td>\n",
       "      <td>...</td>\n",
       "      <td>...</td>\n",
       "      <td>...</td>\n",
       "    </tr>\n",
       "    <tr>\n",
       "      <th>318</th>\n",
       "      <td>random</td>\n",
       "      <td>terrorism</td>\n",
       "      <td>5</td>\n",
       "      <td>1</td>\n",
       "      <td>6</td>\n",
       "      <td>Yes</td>\n",
       "      <td>Male</td>\n",
       "    </tr>\n",
       "    <tr>\n",
       "      <th>319</th>\n",
       "      <td>random</td>\n",
       "      <td>terrorism</td>\n",
       "      <td>17</td>\n",
       "      <td>32</td>\n",
       "      <td>48</td>\n",
       "      <td>Yes</td>\n",
       "      <td>Male</td>\n",
       "    </tr>\n",
       "    <tr>\n",
       "      <th>320</th>\n",
       "      <td>random</td>\n",
       "      <td>unknown</td>\n",
       "      <td>26</td>\n",
       "      <td>20</td>\n",
       "      <td>46</td>\n",
       "      <td>No</td>\n",
       "      <td>M</td>\n",
       "    </tr>\n",
       "    <tr>\n",
       "      <th>321</th>\n",
       "      <td>random</td>\n",
       "      <td>unknown</td>\n",
       "      <td>3</td>\n",
       "      <td>0</td>\n",
       "      <td>3</td>\n",
       "      <td>No</td>\n",
       "      <td>M</td>\n",
       "    </tr>\n",
       "    <tr>\n",
       "      <th>322</th>\n",
       "      <td>coworkers</td>\n",
       "      <td>unknown</td>\n",
       "      <td>3</td>\n",
       "      <td>3</td>\n",
       "      <td>6</td>\n",
       "      <td>No</td>\n",
       "      <td>M</td>\n",
       "    </tr>\n",
       "  </tbody>\n",
       "</table>\n",
       "<p>323 rows × 7 columns</p>\n",
       "</div>"
      ],
      "text/plain": [
       "        Target          Cause  Fatalities  Injured  Total victims  \\\n",
       "0            0              0          58      527            585   \n",
       "1    coworkers              0           3        2              5   \n",
       "2    coworkers      terrorism           3        0              3   \n",
       "3    coworkers  unemployement           5        0              5   \n",
       "4    coworkers              0           3        0              3   \n",
       "..         ...            ...         ...      ...            ...   \n",
       "318     random      terrorism           5        1              6   \n",
       "319     random      terrorism          17       32             48   \n",
       "320     random        unknown          26       20             46   \n",
       "321     random        unknown           3        0              3   \n",
       "322  coworkers        unknown           3        3              6   \n",
       "\n",
       "    Mental Health Issues Gender  \n",
       "0                Unclear      M  \n",
       "1                    Yes      M  \n",
       "2                Unclear      M  \n",
       "3                Unclear      M  \n",
       "4                    Yes      M  \n",
       "..                   ...    ...  \n",
       "318                  Yes   Male  \n",
       "319                  Yes   Male  \n",
       "320                   No      M  \n",
       "321                   No      M  \n",
       "322                   No      M  \n",
       "\n",
       "[323 rows x 7 columns]"
      ]
     },
     "execution_count": 27,
     "metadata": {},
     "output_type": "execute_result"
    }
   ],
   "source": [
    "#Dropping the columns that are not useful to train our machine learning models\n",
    "A.drop([ 'ï»¿Title', 'Location', 'Date', 'Incident Area',\n",
    "       'Open/Close Location','Summary','Policeman Killed', 'Age',\n",
    "       'Employeed (Y/N)', 'Employed at', 'Race','Latitude', 'Longitude'], axis = 1, inplace = True)\n",
    "\n",
    "A"
   ]
  },
  {
   "cell_type": "code",
   "execution_count": 28,
   "metadata": {},
   "outputs": [
    {
     "data": {
      "text/html": [
       "<div>\n",
       "<style scoped>\n",
       "    .dataframe tbody tr th:only-of-type {\n",
       "        vertical-align: middle;\n",
       "    }\n",
       "\n",
       "    .dataframe tbody tr th {\n",
       "        vertical-align: top;\n",
       "    }\n",
       "\n",
       "    .dataframe thead th {\n",
       "        text-align: right;\n",
       "    }\n",
       "</style>\n",
       "<table border=\"1\" class=\"dataframe\">\n",
       "  <thead>\n",
       "    <tr style=\"text-align: right;\">\n",
       "      <th></th>\n",
       "      <th>Target</th>\n",
       "      <th>Cause</th>\n",
       "      <th>Fatalities</th>\n",
       "      <th>Injured</th>\n",
       "      <th>Total victims</th>\n",
       "      <th>Mental Health Issues</th>\n",
       "      <th>Gender</th>\n",
       "      <th>MentalHealth_encoded</th>\n",
       "      <th>Gen_encoded</th>\n",
       "      <th>target_encoded</th>\n",
       "      <th>label_causes</th>\n",
       "    </tr>\n",
       "  </thead>\n",
       "  <tbody>\n",
       "    <tr>\n",
       "      <th>0</th>\n",
       "      <td>0</td>\n",
       "      <td>0</td>\n",
       "      <td>58</td>\n",
       "      <td>527</td>\n",
       "      <td>585</td>\n",
       "      <td>Unclear</td>\n",
       "      <td>M</td>\n",
       "      <td>1</td>\n",
       "      <td>1</td>\n",
       "      <td>0</td>\n",
       "      <td>0</td>\n",
       "    </tr>\n",
       "    <tr>\n",
       "      <th>1</th>\n",
       "      <td>coworkers</td>\n",
       "      <td>0</td>\n",
       "      <td>3</td>\n",
       "      <td>2</td>\n",
       "      <td>5</td>\n",
       "      <td>Yes</td>\n",
       "      <td>M</td>\n",
       "      <td>3</td>\n",
       "      <td>1</td>\n",
       "      <td>36</td>\n",
       "      <td>0</td>\n",
       "    </tr>\n",
       "    <tr>\n",
       "      <th>2</th>\n",
       "      <td>coworkers</td>\n",
       "      <td>terrorism</td>\n",
       "      <td>3</td>\n",
       "      <td>0</td>\n",
       "      <td>3</td>\n",
       "      <td>Unclear</td>\n",
       "      <td>M</td>\n",
       "      <td>1</td>\n",
       "      <td>1</td>\n",
       "      <td>36</td>\n",
       "      <td>22</td>\n",
       "    </tr>\n",
       "    <tr>\n",
       "      <th>3</th>\n",
       "      <td>coworkers</td>\n",
       "      <td>unemployement</td>\n",
       "      <td>5</td>\n",
       "      <td>0</td>\n",
       "      <td>5</td>\n",
       "      <td>Unclear</td>\n",
       "      <td>M</td>\n",
       "      <td>1</td>\n",
       "      <td>1</td>\n",
       "      <td>36</td>\n",
       "      <td>23</td>\n",
       "    </tr>\n",
       "    <tr>\n",
       "      <th>4</th>\n",
       "      <td>coworkers</td>\n",
       "      <td>0</td>\n",
       "      <td>3</td>\n",
       "      <td>0</td>\n",
       "      <td>3</td>\n",
       "      <td>Yes</td>\n",
       "      <td>M</td>\n",
       "      <td>3</td>\n",
       "      <td>1</td>\n",
       "      <td>36</td>\n",
       "      <td>0</td>\n",
       "    </tr>\n",
       "    <tr>\n",
       "      <th>...</th>\n",
       "      <td>...</td>\n",
       "      <td>...</td>\n",
       "      <td>...</td>\n",
       "      <td>...</td>\n",
       "      <td>...</td>\n",
       "      <td>...</td>\n",
       "      <td>...</td>\n",
       "      <td>...</td>\n",
       "      <td>...</td>\n",
       "      <td>...</td>\n",
       "      <td>...</td>\n",
       "    </tr>\n",
       "    <tr>\n",
       "      <th>318</th>\n",
       "      <td>random</td>\n",
       "      <td>terrorism</td>\n",
       "      <td>5</td>\n",
       "      <td>1</td>\n",
       "      <td>6</td>\n",
       "      <td>Yes</td>\n",
       "      <td>Male</td>\n",
       "      <td>3</td>\n",
       "      <td>3</td>\n",
       "      <td>49</td>\n",
       "      <td>22</td>\n",
       "    </tr>\n",
       "    <tr>\n",
       "      <th>319</th>\n",
       "      <td>random</td>\n",
       "      <td>terrorism</td>\n",
       "      <td>17</td>\n",
       "      <td>32</td>\n",
       "      <td>48</td>\n",
       "      <td>Yes</td>\n",
       "      <td>Male</td>\n",
       "      <td>3</td>\n",
       "      <td>3</td>\n",
       "      <td>49</td>\n",
       "      <td>22</td>\n",
       "    </tr>\n",
       "    <tr>\n",
       "      <th>320</th>\n",
       "      <td>random</td>\n",
       "      <td>unknown</td>\n",
       "      <td>26</td>\n",
       "      <td>20</td>\n",
       "      <td>46</td>\n",
       "      <td>No</td>\n",
       "      <td>M</td>\n",
       "      <td>0</td>\n",
       "      <td>1</td>\n",
       "      <td>49</td>\n",
       "      <td>24</td>\n",
       "    </tr>\n",
       "    <tr>\n",
       "      <th>321</th>\n",
       "      <td>random</td>\n",
       "      <td>unknown</td>\n",
       "      <td>3</td>\n",
       "      <td>0</td>\n",
       "      <td>3</td>\n",
       "      <td>No</td>\n",
       "      <td>M</td>\n",
       "      <td>0</td>\n",
       "      <td>1</td>\n",
       "      <td>49</td>\n",
       "      <td>24</td>\n",
       "    </tr>\n",
       "    <tr>\n",
       "      <th>322</th>\n",
       "      <td>coworkers</td>\n",
       "      <td>unknown</td>\n",
       "      <td>3</td>\n",
       "      <td>3</td>\n",
       "      <td>6</td>\n",
       "      <td>No</td>\n",
       "      <td>M</td>\n",
       "      <td>0</td>\n",
       "      <td>1</td>\n",
       "      <td>36</td>\n",
       "      <td>24</td>\n",
       "    </tr>\n",
       "  </tbody>\n",
       "</table>\n",
       "<p>323 rows × 11 columns</p>\n",
       "</div>"
      ],
      "text/plain": [
       "        Target          Cause  Fatalities  Injured  Total victims  \\\n",
       "0            0              0          58      527            585   \n",
       "1    coworkers              0           3        2              5   \n",
       "2    coworkers      terrorism           3        0              3   \n",
       "3    coworkers  unemployement           5        0              5   \n",
       "4    coworkers              0           3        0              3   \n",
       "..         ...            ...         ...      ...            ...   \n",
       "318     random      terrorism           5        1              6   \n",
       "319     random      terrorism          17       32             48   \n",
       "320     random        unknown          26       20             46   \n",
       "321     random        unknown           3        0              3   \n",
       "322  coworkers        unknown           3        3              6   \n",
       "\n",
       "    Mental Health Issues Gender  MentalHealth_encoded  Gen_encoded  \\\n",
       "0                Unclear      M                     1            1   \n",
       "1                    Yes      M                     3            1   \n",
       "2                Unclear      M                     1            1   \n",
       "3                Unclear      M                     1            1   \n",
       "4                    Yes      M                     3            1   \n",
       "..                   ...    ...                   ...          ...   \n",
       "318                  Yes   Male                     3            3   \n",
       "319                  Yes   Male                     3            3   \n",
       "320                   No      M                     0            1   \n",
       "321                   No      M                     0            1   \n",
       "322                   No      M                     0            1   \n",
       "\n",
       "     target_encoded  label_causes  \n",
       "0                 0             0  \n",
       "1                36             0  \n",
       "2                36            22  \n",
       "3                36            23  \n",
       "4                36             0  \n",
       "..              ...           ...  \n",
       "318              49            22  \n",
       "319              49            22  \n",
       "320              49            24  \n",
       "321              49            24  \n",
       "322              36            24  \n",
       "\n",
       "[323 rows x 11 columns]"
      ]
     },
     "execution_count": 28,
     "metadata": {},
     "output_type": "execute_result"
    }
   ],
   "source": [
    "# Importing label encoder \n",
    "from sklearn import preprocessing \n",
    "\n",
    "# label_encoder object knows how to understand word labels. \n",
    "label_encoder = preprocessing.LabelEncoder() \n",
    "\n",
    "# Encode labels in column. \n",
    "A['MentalHealth_encoded']= label_encoder.fit_transform(A['Mental Health Issues']) \n",
    "A['Gen_encoded']= label_encoder.fit_transform(A['Gender']) \n",
    "A['target_encoded'] = labelEncoder.fit_transform(A['Target'])\n",
    "A['label_causes'] = labelEncoder.fit_transform(A['Cause'])\n",
    "\n",
    "A"
   ]
  },
  {
   "cell_type": "code",
   "execution_count": 29,
   "metadata": {},
   "outputs": [
    {
     "data": {
      "text/html": [
       "<div>\n",
       "<style scoped>\n",
       "    .dataframe tbody tr th:only-of-type {\n",
       "        vertical-align: middle;\n",
       "    }\n",
       "\n",
       "    .dataframe tbody tr th {\n",
       "        vertical-align: top;\n",
       "    }\n",
       "\n",
       "    .dataframe thead th {\n",
       "        text-align: right;\n",
       "    }\n",
       "</style>\n",
       "<table border=\"1\" class=\"dataframe\">\n",
       "  <thead>\n",
       "    <tr style=\"text-align: right;\">\n",
       "      <th></th>\n",
       "      <th>Target</th>\n",
       "      <th>Cause</th>\n",
       "      <th>Fatalities</th>\n",
       "      <th>Injured</th>\n",
       "      <th>Total victims</th>\n",
       "      <th>Mental Health Issues</th>\n",
       "      <th>Gender</th>\n",
       "      <th>MentalHealth_encoded</th>\n",
       "      <th>Gen_encoded</th>\n",
       "      <th>target_encoded</th>\n",
       "      <th>label_causes</th>\n",
       "    </tr>\n",
       "  </thead>\n",
       "  <tbody>\n",
       "    <tr>\n",
       "      <th>0</th>\n",
       "      <td>0</td>\n",
       "      <td>0</td>\n",
       "      <td>58</td>\n",
       "      <td>527</td>\n",
       "      <td>585</td>\n",
       "      <td>Unclear</td>\n",
       "      <td>M</td>\n",
       "      <td>1</td>\n",
       "      <td>1</td>\n",
       "      <td>0</td>\n",
       "      <td>0</td>\n",
       "    </tr>\n",
       "    <tr>\n",
       "      <th>1</th>\n",
       "      <td>coworkers</td>\n",
       "      <td>0</td>\n",
       "      <td>3</td>\n",
       "      <td>2</td>\n",
       "      <td>5</td>\n",
       "      <td>Yes</td>\n",
       "      <td>M</td>\n",
       "      <td>3</td>\n",
       "      <td>1</td>\n",
       "      <td>36</td>\n",
       "      <td>0</td>\n",
       "    </tr>\n",
       "    <tr>\n",
       "      <th>2</th>\n",
       "      <td>coworkers</td>\n",
       "      <td>terrorism</td>\n",
       "      <td>3</td>\n",
       "      <td>0</td>\n",
       "      <td>3</td>\n",
       "      <td>Unclear</td>\n",
       "      <td>M</td>\n",
       "      <td>1</td>\n",
       "      <td>1</td>\n",
       "      <td>36</td>\n",
       "      <td>22</td>\n",
       "    </tr>\n",
       "    <tr>\n",
       "      <th>3</th>\n",
       "      <td>coworkers</td>\n",
       "      <td>unemployement</td>\n",
       "      <td>5</td>\n",
       "      <td>0</td>\n",
       "      <td>5</td>\n",
       "      <td>Unclear</td>\n",
       "      <td>M</td>\n",
       "      <td>1</td>\n",
       "      <td>1</td>\n",
       "      <td>36</td>\n",
       "      <td>23</td>\n",
       "    </tr>\n",
       "    <tr>\n",
       "      <th>4</th>\n",
       "      <td>coworkers</td>\n",
       "      <td>0</td>\n",
       "      <td>3</td>\n",
       "      <td>0</td>\n",
       "      <td>3</td>\n",
       "      <td>Yes</td>\n",
       "      <td>M</td>\n",
       "      <td>3</td>\n",
       "      <td>1</td>\n",
       "      <td>36</td>\n",
       "      <td>0</td>\n",
       "    </tr>\n",
       "  </tbody>\n",
       "</table>\n",
       "</div>"
      ],
      "text/plain": [
       "      Target          Cause  Fatalities  Injured  Total victims  \\\n",
       "0          0              0          58      527            585   \n",
       "1  coworkers              0           3        2              5   \n",
       "2  coworkers      terrorism           3        0              3   \n",
       "3  coworkers  unemployement           5        0              5   \n",
       "4  coworkers              0           3        0              3   \n",
       "\n",
       "  Mental Health Issues Gender  MentalHealth_encoded  Gen_encoded  \\\n",
       "0              Unclear      M                     1            1   \n",
       "1                  Yes      M                     3            1   \n",
       "2              Unclear      M                     1            1   \n",
       "3              Unclear      M                     1            1   \n",
       "4                  Yes      M                     3            1   \n",
       "\n",
       "   target_encoded  label_causes  \n",
       "0               0             0  \n",
       "1              36             0  \n",
       "2              36            22  \n",
       "3              36            23  \n",
       "4              36             0  "
      ]
     },
     "execution_count": 29,
     "metadata": {},
     "output_type": "execute_result"
    }
   ],
   "source": [
    "A.head()"
   ]
  },
  {
   "cell_type": "code",
   "execution_count": 30,
   "metadata": {},
   "outputs": [
    {
     "data": {
      "text/plain": [
       "Target                  0\n",
       "Cause                   0\n",
       "Fatalities              0\n",
       "Injured                 0\n",
       "Total victims           0\n",
       "Mental Health Issues    0\n",
       "Gender                  0\n",
       "MentalHealth_encoded    0\n",
       "Gen_encoded             0\n",
       "target_encoded          0\n",
       "label_causes            0\n",
       "dtype: int64"
      ]
     },
     "execution_count": 30,
     "metadata": {},
     "output_type": "execute_result"
    }
   ],
   "source": [
    "#Checking for null values\n",
    "A.isnull().sum()"
   ]
  },
  {
   "cell_type": "code",
   "execution_count": 31,
   "metadata": {},
   "outputs": [],
   "source": [
    "#Before we instantiate our ML model, we divide the dataset into two smaller training and testing datasets.\n",
    "#We also set up our Features (X) and Labels (y) where X is 'MentalHealth_encoded','Gen_encoded', and 'target_encoded'.\n",
    "#y is 'Cause'\n",
    "\n",
    "from sklearn.model_selection import train_test_split\n",
    "\n",
    "# test size represents the proportion of training and testing data split. \n",
    "X = A[['MentalHealth_encoded','Gen_encoded', 'target_encoded']]\n",
    "y = A['Cause']\n",
    "\n",
    "# Random_state sets \"randomness\" of data randomisation\n",
    "X_train, X_test, y_train, y_test = train_test_split(X, y, test_size = 0.2, random_state = 1)"
   ]
  },
  {
   "cell_type": "code",
   "execution_count": 32,
   "metadata": {},
   "outputs": [
    {
     "data": {
      "text/plain": [
       "MultinomialNB()"
      ]
     },
     "execution_count": 32,
     "metadata": {},
     "output_type": "execute_result"
    }
   ],
   "source": [
    "# Import  MultinomialNB from sklearn\n",
    "from sklearn.naive_bayes import MultinomialNB\n",
    "from sklearn import metrics\n",
    "\n",
    "\n",
    "# Creating an instance of the model\n",
    "nb_model = MultinomialNB()\n",
    "\n",
    "# Fitting model to training data\n",
    "nb_model.fit(X_train, y_train)"
   ]
  },
  {
   "cell_type": "code",
   "execution_count": 33,
   "metadata": {},
   "outputs": [
    {
     "name": "stdout",
     "output_type": "stream",
     "text": [
      "[[18  0  0  1  0  0  0  0  1  0  0  0  0  0]\n",
      " [ 5  0  0  1  0  0  0  0  0  0  0  0  0  0]\n",
      " [ 2  0  0  0  0  0  0  0  0  0  0  0  0  0]\n",
      " [ 4  0  0  0  0  0  0  0  0  0  0  0  0  0]\n",
      " [ 1  0  0  0  0  0  0  0  0  0  0  0  0  0]\n",
      " [ 1  0  0  0  0  0  0  0  0  0  0  0  0  0]\n",
      " [ 5  0  0  1  0  0  0  0  0  0  0  0  0  0]\n",
      " [ 1  0  0  0  0  0  0  0  0  0  0  0  0  0]\n",
      " [ 0  0  0  0  0  0  0  0  0  0  0  0  0  0]\n",
      " [ 9  0  0  0  0  0  0  0  0  0  0  0  0  0]\n",
      " [ 1  0  0  0  0  0  0  0  0  0  0  0  0  0]\n",
      " [ 9  0  0  0  0  0  0  0  0  0  0  0  0  0]\n",
      " [ 2  0  0  0  0  0  0  0  0  0  0  0  0  0]\n",
      " [ 3  0  0  0  0  0  0  0  0  0  0  0  0  0]]\n"
     ]
    }
   ],
   "source": [
    "# Predict answers to data from the X_text dataset\n",
    "nb_model_predictions = nb_model.predict(X_test)\n",
    "\n",
    "# Show results in a confusion matrix\n",
    "print(metrics.confusion_matrix(y_test,nb_model_predictions))"
   ]
  },
  {
   "cell_type": "code",
   "execution_count": 34,
   "metadata": {},
   "outputs": [
    {
     "name": "stdout",
     "output_type": "stream",
     "text": [
      "                       precision    recall  f1-score   support\n",
      "\n",
      "                    0       0.30      0.90      0.44        20\n",
      "                anger       0.00      0.00      0.00         6\n",
      "                argue       0.00      0.00      0.00         2\n",
      "     domestic dispute       0.00      0.00      0.00         4\n",
      "        failing exams       0.00      0.00      0.00         1\n",
      "                fight       0.00      0.00      0.00         1\n",
      "          frustration       0.00      0.00      0.00         6\n",
      "                  fun       0.00      0.00      0.00         1\n",
      "post-traumatic stress       0.00      0.00      0.00         0\n",
      "               psycho       0.00      0.00      0.00         9\n",
      "              revenge       0.00      0.00      0.00         1\n",
      "            terrorism       0.00      0.00      0.00         9\n",
      "        unemployement       0.00      0.00      0.00         2\n",
      "              unknown       0.00      0.00      0.00         3\n",
      "\n",
      "             accuracy                           0.28        65\n",
      "            macro avg       0.02      0.06      0.03        65\n",
      "         weighted avg       0.09      0.28      0.14        65\n",
      "\n"
     ]
    },
    {
     "name": "stderr",
     "output_type": "stream",
     "text": [
      "C:\\Users\\suchi\\Anaconda3\\envs\\AI2_course\\lib\\site-packages\\sklearn\\metrics\\_classification.py:1221: UndefinedMetricWarning: Precision and F-score are ill-defined and being set to 0.0 in labels with no predicted samples. Use `zero_division` parameter to control this behavior.\n",
      "  _warn_prf(average, modifier, msg_start, len(result))\n",
      "C:\\Users\\suchi\\Anaconda3\\envs\\AI2_course\\lib\\site-packages\\sklearn\\metrics\\_classification.py:1221: UndefinedMetricWarning: Recall and F-score are ill-defined and being set to 0.0 in labels with no true samples. Use `zero_division` parameter to control this behavior.\n",
      "  _warn_prf(average, modifier, msg_start, len(result))\n"
     ]
    }
   ],
   "source": [
    "#Printing the classification report and the accuracy of the model\n",
    "print(metrics.classification_report(y_test,nb_model_predictions))\n"
   ]
  },
  {
   "cell_type": "code",
   "execution_count": 35,
   "metadata": {},
   "outputs": [
    {
     "name": "stdout",
     "output_type": "stream",
     "text": [
      "0.27692307692307694\n"
     ]
    }
   ],
   "source": [
    "print(metrics.accuracy_score(y_test,nb_model_predictions))"
   ]
  },
  {
   "cell_type": "code",
   "execution_count": 36,
   "metadata": {},
   "outputs": [
    {
     "data": {
      "text/plain": [
       "RandomForestClassifier()"
      ]
     },
     "execution_count": 36,
     "metadata": {},
     "output_type": "execute_result"
    }
   ],
   "source": [
    "#Import RandomForestClassifier from sklearn\n",
    "from sklearn.ensemble import RandomForestClassifier\n",
    "\n",
    "# Create an instance of the model\n",
    "RF_model = RandomForestClassifier()\n",
    "\n",
    "#Fit model to training data\n",
    "RF_model.fit(X_train, y_train)"
   ]
  },
  {
   "cell_type": "code",
   "execution_count": 37,
   "metadata": {},
   "outputs": [
    {
     "name": "stdout",
     "output_type": "stream",
     "text": [
      "[[10  2  0  3  0  0  1  0  1  1  0  2  0  0]\n",
      " [ 4  1  1  0  0  0  0  0  0  0  0  0  0  0]\n",
      " [ 2  0  0  0  0  0  0  0  0  0  0  0  0  0]\n",
      " [ 1  0  0  3  0  0  0  0  0  0  0  0  0  0]\n",
      " [ 0  1  0  0  0  0  0  0  0  0  0  0  0  0]\n",
      " [ 1  0  0  0  0  0  0  0  0  0  0  0  0  0]\n",
      " [ 2  0  0  0  0  0  0  0  0  0  0  3  1  0]\n",
      " [ 1  0  0  0  0  0  0  0  0  0  0  0  0  0]\n",
      " [ 0  0  0  0  0  0  0  0  0  0  0  0  0  0]\n",
      " [ 4  0  0  0  0  0  0  0  0  0  1  4  0  0]\n",
      " [ 0  0  0  0  0  0  0  0  0  0  1  0  0  0]\n",
      " [ 3  1  0  0  0  0  0  0  0  1  0  4  0  0]\n",
      " [ 0  1  0  0  0  0  0  0  0  0  0  0  1  0]\n",
      " [ 2  0  0  0  0  0  0  0  0  0  0  0  1  0]]\n"
     ]
    }
   ],
   "source": [
    "# Predict answers to data from the X_text dataset\n",
    "RF_model_predictions = RF_model.predict(X_test)\n",
    "\n",
    "# Show results in a confusion matrix\n",
    "print(metrics.confusion_matrix(y_test,RF_model_predictions))"
   ]
  },
  {
   "cell_type": "code",
   "execution_count": 38,
   "metadata": {},
   "outputs": [
    {
     "name": "stdout",
     "output_type": "stream",
     "text": [
      "                    precision    recall  f1-score   support\n",
      "\n",
      "                 0       0.33      0.50      0.40        20\n",
      "             anger       0.17      0.17      0.17         6\n",
      "             argue       0.00      0.00      0.00         2\n",
      "  domestic dispute       0.50      0.75      0.60         4\n",
      "     failing exams       0.00      0.00      0.00         1\n",
      "             fight       0.00      0.00      0.00         1\n",
      "       frustration       0.00      0.00      0.00         6\n",
      "               fun       0.00      0.00      0.00         1\n",
      "neighbors conflict       0.00      0.00      0.00         0\n",
      "            psycho       0.00      0.00      0.00         9\n",
      "           revenge       0.50      1.00      0.67         1\n",
      "         terrorism       0.31      0.44      0.36         9\n",
      "     unemployement       0.33      0.50      0.40         2\n",
      "           unknown       0.00      0.00      0.00         3\n",
      "\n",
      "          accuracy                           0.31        65\n",
      "         macro avg       0.15      0.24      0.19        65\n",
      "      weighted avg       0.21      0.31      0.25        65\n",
      "\n"
     ]
    },
    {
     "name": "stderr",
     "output_type": "stream",
     "text": [
      "C:\\Users\\suchi\\Anaconda3\\envs\\AI2_course\\lib\\site-packages\\sklearn\\metrics\\_classification.py:1221: UndefinedMetricWarning: Precision and F-score are ill-defined and being set to 0.0 in labels with no predicted samples. Use `zero_division` parameter to control this behavior.\n",
      "  _warn_prf(average, modifier, msg_start, len(result))\n",
      "C:\\Users\\suchi\\Anaconda3\\envs\\AI2_course\\lib\\site-packages\\sklearn\\metrics\\_classification.py:1221: UndefinedMetricWarning: Recall and F-score are ill-defined and being set to 0.0 in labels with no true samples. Use `zero_division` parameter to control this behavior.\n",
      "  _warn_prf(average, modifier, msg_start, len(result))\n"
     ]
    }
   ],
   "source": [
    "#the classification report and the accuracy is printed\n",
    "print(metrics.classification_report(y_test,RF_model_predictions))\n"
   ]
  },
  {
   "cell_type": "code",
   "execution_count": 39,
   "metadata": {},
   "outputs": [
    {
     "name": "stdout",
     "output_type": "stream",
     "text": [
      "0.3076923076923077\n"
     ]
    }
   ],
   "source": [
    "print(metrics.accuracy_score(y_test,RF_model_predictions))"
   ]
  },
  {
   "cell_type": "code",
   "execution_count": 40,
   "metadata": {},
   "outputs": [
    {
     "name": "stdout",
     "output_type": "stream",
     "text": [
      "[[11  2  0  3  0  0  0  0  1  2  0  1  0  0]\n",
      " [ 5  1  0  0  0  0  0  0  0  0  0  0  0  0]\n",
      " [ 2  0  0  0  0  0  0  0  0  0  0  0  0  0]\n",
      " [ 1  0  0  3  0  0  0  0  0  0  0  0  0  0]\n",
      " [ 1  0  0  0  0  0  0  0  0  0  0  0  0  0]\n",
      " [ 1  0  0  0  0  0  0  0  0  0  0  0  0  0]\n",
      " [ 3  0  0  0  0  0  0  0  0  1  0  1  1  0]\n",
      " [ 1  0  0  0  0  0  0  0  0  0  0  0  0  0]\n",
      " [ 0  0  0  0  0  0  0  0  0  0  0  0  0  0]\n",
      " [ 5  0  0  0  0  0  0  0  0  0  0  4  0  0]\n",
      " [ 1  0  0  0  0  0  0  0  0  0  0  0  0  0]\n",
      " [ 6  0  0  0  0  0  0  0  0  1  0  2  0  0]\n",
      " [ 0  2  0  0  0  0  0  0  0  0  0  0  0  0]\n",
      " [ 2  0  0  0  0  0  0  0  0  0  0  1  0  0]]\n"
     ]
    }
   ],
   "source": [
    "# Importing a Support Vector Classification model (SVC)\n",
    "from sklearn.svm import SVC\n",
    "\n",
    "# The gamma value is set to \"auto\" to avoid returning error. We fit the SVC model on our data. The confusion matrix is printed.\n",
    "SVC_model = SVC(gamma=\"auto\")\n",
    "SVC_model.fit(X_train, y_train)\n",
    "\n",
    "SVC_model_predictions = SVC_model.predict(X_test)\n",
    "\n",
    "print(metrics.confusion_matrix(y_test, SVC_model_predictions))"
   ]
  },
  {
   "cell_type": "code",
   "execution_count": 41,
   "metadata": {},
   "outputs": [
    {
     "name": "stdout",
     "output_type": "stream",
     "text": [
      "                    precision    recall  f1-score   support\n",
      "\n",
      "                 0       0.28      0.55      0.37        20\n",
      "             anger       0.20      0.17      0.18         6\n",
      "             argue       0.00      0.00      0.00         2\n",
      "  domestic dispute       0.50      0.75      0.60         4\n",
      "     failing exams       0.00      0.00      0.00         1\n",
      "             fight       0.00      0.00      0.00         1\n",
      "       frustration       0.00      0.00      0.00         6\n",
      "               fun       0.00      0.00      0.00         1\n",
      "neighbors conflict       0.00      0.00      0.00         0\n",
      "            psycho       0.00      0.00      0.00         9\n",
      "           revenge       0.00      0.00      0.00         1\n",
      "         terrorism       0.22      0.22      0.22         9\n",
      "     unemployement       0.00      0.00      0.00         2\n",
      "           unknown       0.00      0.00      0.00         3\n",
      "\n",
      "          accuracy                           0.26        65\n",
      "         macro avg       0.09      0.12      0.10        65\n",
      "      weighted avg       0.17      0.26      0.20        65\n",
      "\n"
     ]
    },
    {
     "name": "stderr",
     "output_type": "stream",
     "text": [
      "C:\\Users\\suchi\\Anaconda3\\envs\\AI2_course\\lib\\site-packages\\sklearn\\metrics\\_classification.py:1221: UndefinedMetricWarning: Precision and F-score are ill-defined and being set to 0.0 in labels with no predicted samples. Use `zero_division` parameter to control this behavior.\n",
      "  _warn_prf(average, modifier, msg_start, len(result))\n",
      "C:\\Users\\suchi\\Anaconda3\\envs\\AI2_course\\lib\\site-packages\\sklearn\\metrics\\_classification.py:1221: UndefinedMetricWarning: Recall and F-score are ill-defined and being set to 0.0 in labels with no true samples. Use `zero_division` parameter to control this behavior.\n",
      "  _warn_prf(average, modifier, msg_start, len(result))\n"
     ]
    }
   ],
   "source": [
    "#Printing the classification report\n",
    "print(metrics.classification_report(y_test,SVC_model_predictions))"
   ]
  },
  {
   "cell_type": "code",
   "execution_count": 42,
   "metadata": {},
   "outputs": [
    {
     "name": "stdout",
     "output_type": "stream",
     "text": [
      "0.26153846153846155\n"
     ]
    }
   ],
   "source": [
    "#Printing the accuracy\n",
    "print(metrics.accuracy_score(y_test,SVC_model_predictions))"
   ]
  },
  {
   "cell_type": "code",
   "execution_count": 43,
   "metadata": {},
   "outputs": [
    {
     "name": "stderr",
     "output_type": "stream",
     "text": [
      "C:\\Users\\suchi\\Anaconda3\\envs\\AI2_course\\lib\\site-packages\\sklearn\\linear_model\\_logistic.py:764: ConvergenceWarning: lbfgs failed to converge (status=1):\n",
      "STOP: TOTAL NO. of ITERATIONS REACHED LIMIT.\n",
      "\n",
      "Increase the number of iterations (max_iter) or scale the data as shown in:\n",
      "    https://scikit-learn.org/stable/modules/preprocessing.html\n",
      "Please also refer to the documentation for alternative solver options:\n",
      "    https://scikit-learn.org/stable/modules/linear_model.html#logistic-regression\n",
      "  extra_warning_msg=_LOGISTIC_SOLVER_CONVERGENCE_MSG)\n"
     ]
    },
    {
     "data": {
      "text/plain": [
       "LogisticRegression()"
      ]
     },
     "execution_count": 43,
     "metadata": {},
     "output_type": "execute_result"
    }
   ],
   "source": [
    "#We import LogisticRegression from sklearn\n",
    "from sklearn.linear_model import LogisticRegression\n",
    "\n",
    "#We build the model with the L-BFGS option.\n",
    "#Once the model is built, the training data is then provided to the model.\n",
    "\n",
    "log_reg_model = LogisticRegression(solver = \"lbfgs\")\n",
    "\n",
    "log_reg_model.fit(X_train, y_train)"
   ]
  },
  {
   "cell_type": "code",
   "execution_count": 44,
   "metadata": {},
   "outputs": [],
   "source": [
    "#We test the accuracy of the model using the test data.\n",
    "#We import the sklearn.metrics module which includes score functions, performance metrics and pairwise metrics and distance computations. \n",
    "#We create a predictions set with some test data. This is unseen data.\n",
    "\n",
    "from  sklearn import metrics\n",
    "\n",
    "# Creating a prediction set here\n",
    "# Unseen contents of X_test\n",
    "# The answers in y_test are expected which is a list of expected topic descriptions\n",
    "log_reg_model_predictions = log_reg_model.predict(X_test)"
   ]
  },
  {
   "cell_type": "code",
   "execution_count": 45,
   "metadata": {},
   "outputs": [
    {
     "data": {
      "text/plain": [
       "array(['0', '0', '0', '0', '0', '0', '0', '0', '0', '0', '0', '0', '0',\n",
       "       '0', '0', 'terrorism', '0', '0', '0', '0', '0', '0', '0', '0', '0',\n",
       "       '0', '0', '0', '0', '0', '0', '0', '0', '0', '0', 'terrorism', '0',\n",
       "       '0', '0', '0', '0', '0', '0', '0', 'terrorism', '0', '0', '0', '0',\n",
       "       '0', '0', '0', '0', '0', 'terrorism', '0', '0', '0', '0', '0',\n",
       "       'terrorism', '0', '0', '0', '0'], dtype=object)"
      ]
     },
     "execution_count": 45,
     "metadata": {},
     "output_type": "execute_result"
    }
   ],
   "source": [
    "#Predicted output from the model\n",
    "log_reg_model_predictions"
   ]
  },
  {
   "cell_type": "code",
   "execution_count": 46,
   "metadata": {},
   "outputs": [
    {
     "name": "stdout",
     "output_type": "stream",
     "text": [
      "[[18  0  0  0  0  0  0  0  0  0  2  0  0]\n",
      " [ 6  0  0  0  0  0  0  0  0  0  0  0  0]\n",
      " [ 2  0  0  0  0  0  0  0  0  0  0  0  0]\n",
      " [ 4  0  0  0  0  0  0  0  0  0  0  0  0]\n",
      " [ 1  0  0  0  0  0  0  0  0  0  0  0  0]\n",
      " [ 1  0  0  0  0  0  0  0  0  0  0  0  0]\n",
      " [ 6  0  0  0  0  0  0  0  0  0  0  0  0]\n",
      " [ 1  0  0  0  0  0  0  0  0  0  0  0  0]\n",
      " [ 9  0  0  0  0  0  0  0  0  0  0  0  0]\n",
      " [ 1  0  0  0  0  0  0  0  0  0  0  0  0]\n",
      " [ 8  0  0  0  0  0  0  0  0  0  1  0  0]\n",
      " [ 2  0  0  0  0  0  0  0  0  0  0  0  0]\n",
      " [ 1  0  0  0  0  0  0  0  0  0  2  0  0]]\n"
     ]
    }
   ],
   "source": [
    "# Now we compare what the model predicted \n",
    "# with what is expected as output\n",
    "# Printing a confusion matrix\n",
    "print(metrics.confusion_matrix(y_test,log_reg_model_predictions))"
   ]
  },
  {
   "cell_type": "code",
   "execution_count": 47,
   "metadata": {},
   "outputs": [
    {
     "name": "stdout",
     "output_type": "stream",
     "text": [
      "                  precision    recall  f1-score   support\n",
      "\n",
      "               0       0.30      0.90      0.45        20\n",
      "           anger       0.00      0.00      0.00         6\n",
      "           argue       0.00      0.00      0.00         2\n",
      "domestic dispute       0.00      0.00      0.00         4\n",
      "   failing exams       0.00      0.00      0.00         1\n",
      "           fight       0.00      0.00      0.00         1\n",
      "     frustration       0.00      0.00      0.00         6\n",
      "             fun       0.00      0.00      0.00         1\n",
      "          psycho       0.00      0.00      0.00         9\n",
      "         revenge       0.00      0.00      0.00         1\n",
      "       terrorism       0.20      0.11      0.14         9\n",
      "   unemployement       0.00      0.00      0.00         2\n",
      "         unknown       0.00      0.00      0.00         3\n",
      "\n",
      "        accuracy                           0.29        65\n",
      "       macro avg       0.04      0.08      0.05        65\n",
      "    weighted avg       0.12      0.29      0.16        65\n",
      "\n"
     ]
    },
    {
     "name": "stderr",
     "output_type": "stream",
     "text": [
      "C:\\Users\\suchi\\Anaconda3\\envs\\AI2_course\\lib\\site-packages\\sklearn\\metrics\\_classification.py:1221: UndefinedMetricWarning: Precision and F-score are ill-defined and being set to 0.0 in labels with no predicted samples. Use `zero_division` parameter to control this behavior.\n",
      "  _warn_prf(average, modifier, msg_start, len(result))\n"
     ]
    }
   ],
   "source": [
    "# Printing a classification report\n",
    "print(metrics.classification_report(y_test,log_reg_model_predictions))"
   ]
  },
  {
   "cell_type": "code",
   "execution_count": 48,
   "metadata": {},
   "outputs": [
    {
     "name": "stdout",
     "output_type": "stream",
     "text": [
      "0.2923076923076923\n"
     ]
    }
   ],
   "source": [
    "# Printing the overall accuracy of the model\n",
    "print(metrics.accuracy_score(y_test,log_reg_model_predictions))"
   ]
  },
  {
   "cell_type": "markdown",
   "metadata": {},
   "source": [
    "Reference:\n",
    "    Dr. James Connolly's Supervised learning practical notes from AI2."
   ]
  }
 ],
 "metadata": {
  "kernelspec": {
   "display_name": "Python 3",
   "language": "python",
   "name": "python3"
  },
  "language_info": {
   "codemirror_mode": {
    "name": "ipython",
    "version": 3
   },
   "file_extension": ".py",
   "mimetype": "text/x-python",
   "name": "python",
   "nbconvert_exporter": "python",
   "pygments_lexer": "ipython3",
   "version": "3.7.6"
  }
 },
 "nbformat": 4,
 "nbformat_minor": 4
}
